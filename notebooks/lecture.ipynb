{
 "cells": [
  {
   "cell_type": "markdown",
   "id": "0669b26f-da8b-4693-9c22-f8115aeb8864",
   "metadata": {},
   "source": [
    "# Genetic Algorithms\n",
    "## Evolutionary Algorithms for Optimization"
   ]
  },
  {
   "cell_type": "code",
   "execution_count": 1,
   "id": "9e307aa7-917b-4423-9bdc-ab63b5ad6cd6",
   "metadata": {},
   "outputs": [
    {
     "data": {
      "text/html": [
       "        <script type=\"text/javascript\">\n",
       "        window.PlotlyConfig = {MathJaxConfig: 'local'};\n",
       "        if (window.MathJax) {MathJax.Hub.Config({SVG: {font: \"STIX-Web\"}});}\n",
       "        if (typeof require !== 'undefined') {\n",
       "        require.undef(\"plotly\");\n",
       "        requirejs.config({\n",
       "            paths: {\n",
       "                'plotly': ['https://cdn.plot.ly/plotly-latest.min']\n",
       "            }\n",
       "        });\n",
       "        require(['plotly'], function(Plotly) {\n",
       "            window._Plotly = Plotly;\n",
       "        });\n",
       "        }\n",
       "        </script>\n",
       "        "
      ]
     },
     "metadata": {},
     "output_type": "display_data"
    },
    {
     "data": {
      "application/vnd.plotly.v1+json": {
       "config": {
        "linkText": "Export to plot.ly",
        "plotlyServerURL": "https://plot.ly",
        "showLink": false
       },
       "data": [
        {
         "mode": "markers",
         "type": "scatter",
         "x": [
          1,
          2
         ],
         "y": [
          42,
          42
         ]
        }
       ],
       "layout": {
        "height": 100,
        "template": {
         "data": {
          "bar": [
           {
            "error_x": {
             "color": "#2a3f5f"
            },
            "error_y": {
             "color": "#2a3f5f"
            },
            "marker": {
             "line": {
              "color": "#E5ECF6",
              "width": 0.5
             }
            },
            "type": "bar"
           }
          ],
          "barpolar": [
           {
            "marker": {
             "line": {
              "color": "#E5ECF6",
              "width": 0.5
             }
            },
            "type": "barpolar"
           }
          ],
          "carpet": [
           {
            "aaxis": {
             "endlinecolor": "#2a3f5f",
             "gridcolor": "white",
             "linecolor": "white",
             "minorgridcolor": "white",
             "startlinecolor": "#2a3f5f"
            },
            "baxis": {
             "endlinecolor": "#2a3f5f",
             "gridcolor": "white",
             "linecolor": "white",
             "minorgridcolor": "white",
             "startlinecolor": "#2a3f5f"
            },
            "type": "carpet"
           }
          ],
          "choropleth": [
           {
            "colorbar": {
             "outlinewidth": 0,
             "ticks": ""
            },
            "type": "choropleth"
           }
          ],
          "contour": [
           {
            "colorbar": {
             "outlinewidth": 0,
             "ticks": ""
            },
            "colorscale": [
             [
              0,
              "#0d0887"
             ],
             [
              0.1111111111111111,
              "#46039f"
             ],
             [
              0.2222222222222222,
              "#7201a8"
             ],
             [
              0.3333333333333333,
              "#9c179e"
             ],
             [
              0.4444444444444444,
              "#bd3786"
             ],
             [
              0.5555555555555556,
              "#d8576b"
             ],
             [
              0.6666666666666666,
              "#ed7953"
             ],
             [
              0.7777777777777778,
              "#fb9f3a"
             ],
             [
              0.8888888888888888,
              "#fdca26"
             ],
             [
              1,
              "#f0f921"
             ]
            ],
            "type": "contour"
           }
          ],
          "contourcarpet": [
           {
            "colorbar": {
             "outlinewidth": 0,
             "ticks": ""
            },
            "type": "contourcarpet"
           }
          ],
          "heatmap": [
           {
            "colorbar": {
             "outlinewidth": 0,
             "ticks": ""
            },
            "colorscale": [
             [
              0,
              "#0d0887"
             ],
             [
              0.1111111111111111,
              "#46039f"
             ],
             [
              0.2222222222222222,
              "#7201a8"
             ],
             [
              0.3333333333333333,
              "#9c179e"
             ],
             [
              0.4444444444444444,
              "#bd3786"
             ],
             [
              0.5555555555555556,
              "#d8576b"
             ],
             [
              0.6666666666666666,
              "#ed7953"
             ],
             [
              0.7777777777777778,
              "#fb9f3a"
             ],
             [
              0.8888888888888888,
              "#fdca26"
             ],
             [
              1,
              "#f0f921"
             ]
            ],
            "type": "heatmap"
           }
          ],
          "heatmapgl": [
           {
            "colorbar": {
             "outlinewidth": 0,
             "ticks": ""
            },
            "colorscale": [
             [
              0,
              "#0d0887"
             ],
             [
              0.1111111111111111,
              "#46039f"
             ],
             [
              0.2222222222222222,
              "#7201a8"
             ],
             [
              0.3333333333333333,
              "#9c179e"
             ],
             [
              0.4444444444444444,
              "#bd3786"
             ],
             [
              0.5555555555555556,
              "#d8576b"
             ],
             [
              0.6666666666666666,
              "#ed7953"
             ],
             [
              0.7777777777777778,
              "#fb9f3a"
             ],
             [
              0.8888888888888888,
              "#fdca26"
             ],
             [
              1,
              "#f0f921"
             ]
            ],
            "type": "heatmapgl"
           }
          ],
          "histogram": [
           {
            "marker": {
             "colorbar": {
              "outlinewidth": 0,
              "ticks": ""
             }
            },
            "type": "histogram"
           }
          ],
          "histogram2d": [
           {
            "colorbar": {
             "outlinewidth": 0,
             "ticks": ""
            },
            "colorscale": [
             [
              0,
              "#0d0887"
             ],
             [
              0.1111111111111111,
              "#46039f"
             ],
             [
              0.2222222222222222,
              "#7201a8"
             ],
             [
              0.3333333333333333,
              "#9c179e"
             ],
             [
              0.4444444444444444,
              "#bd3786"
             ],
             [
              0.5555555555555556,
              "#d8576b"
             ],
             [
              0.6666666666666666,
              "#ed7953"
             ],
             [
              0.7777777777777778,
              "#fb9f3a"
             ],
             [
              0.8888888888888888,
              "#fdca26"
             ],
             [
              1,
              "#f0f921"
             ]
            ],
            "type": "histogram2d"
           }
          ],
          "histogram2dcontour": [
           {
            "colorbar": {
             "outlinewidth": 0,
             "ticks": ""
            },
            "colorscale": [
             [
              0,
              "#0d0887"
             ],
             [
              0.1111111111111111,
              "#46039f"
             ],
             [
              0.2222222222222222,
              "#7201a8"
             ],
             [
              0.3333333333333333,
              "#9c179e"
             ],
             [
              0.4444444444444444,
              "#bd3786"
             ],
             [
              0.5555555555555556,
              "#d8576b"
             ],
             [
              0.6666666666666666,
              "#ed7953"
             ],
             [
              0.7777777777777778,
              "#fb9f3a"
             ],
             [
              0.8888888888888888,
              "#fdca26"
             ],
             [
              1,
              "#f0f921"
             ]
            ],
            "type": "histogram2dcontour"
           }
          ],
          "mesh3d": [
           {
            "colorbar": {
             "outlinewidth": 0,
             "ticks": ""
            },
            "type": "mesh3d"
           }
          ],
          "parcoords": [
           {
            "line": {
             "colorbar": {
              "outlinewidth": 0,
              "ticks": ""
             }
            },
            "type": "parcoords"
           }
          ],
          "pie": [
           {
            "automargin": true,
            "type": "pie"
           }
          ],
          "scatter": [
           {
            "marker": {
             "colorbar": {
              "outlinewidth": 0,
              "ticks": ""
             }
            },
            "type": "scatter"
           }
          ],
          "scatter3d": [
           {
            "line": {
             "colorbar": {
              "outlinewidth": 0,
              "ticks": ""
             }
            },
            "marker": {
             "colorbar": {
              "outlinewidth": 0,
              "ticks": ""
             }
            },
            "type": "scatter3d"
           }
          ],
          "scattercarpet": [
           {
            "marker": {
             "colorbar": {
              "outlinewidth": 0,
              "ticks": ""
             }
            },
            "type": "scattercarpet"
           }
          ],
          "scattergeo": [
           {
            "marker": {
             "colorbar": {
              "outlinewidth": 0,
              "ticks": ""
             }
            },
            "type": "scattergeo"
           }
          ],
          "scattergl": [
           {
            "marker": {
             "colorbar": {
              "outlinewidth": 0,
              "ticks": ""
             }
            },
            "type": "scattergl"
           }
          ],
          "scattermapbox": [
           {
            "marker": {
             "colorbar": {
              "outlinewidth": 0,
              "ticks": ""
             }
            },
            "type": "scattermapbox"
           }
          ],
          "scatterpolar": [
           {
            "marker": {
             "colorbar": {
              "outlinewidth": 0,
              "ticks": ""
             }
            },
            "type": "scatterpolar"
           }
          ],
          "scatterpolargl": [
           {
            "marker": {
             "colorbar": {
              "outlinewidth": 0,
              "ticks": ""
             }
            },
            "type": "scatterpolargl"
           }
          ],
          "scatterternary": [
           {
            "marker": {
             "colorbar": {
              "outlinewidth": 0,
              "ticks": ""
             }
            },
            "type": "scatterternary"
           }
          ],
          "surface": [
           {
            "colorbar": {
             "outlinewidth": 0,
             "ticks": ""
            },
            "colorscale": [
             [
              0,
              "#0d0887"
             ],
             [
              0.1111111111111111,
              "#46039f"
             ],
             [
              0.2222222222222222,
              "#7201a8"
             ],
             [
              0.3333333333333333,
              "#9c179e"
             ],
             [
              0.4444444444444444,
              "#bd3786"
             ],
             [
              0.5555555555555556,
              "#d8576b"
             ],
             [
              0.6666666666666666,
              "#ed7953"
             ],
             [
              0.7777777777777778,
              "#fb9f3a"
             ],
             [
              0.8888888888888888,
              "#fdca26"
             ],
             [
              1,
              "#f0f921"
             ]
            ],
            "type": "surface"
           }
          ],
          "table": [
           {
            "cells": {
             "fill": {
              "color": "#EBF0F8"
             },
             "line": {
              "color": "white"
             }
            },
            "header": {
             "fill": {
              "color": "#C8D4E3"
             },
             "line": {
              "color": "white"
             }
            },
            "type": "table"
           }
          ]
         },
         "layout": {
          "annotationdefaults": {
           "arrowcolor": "#2a3f5f",
           "arrowhead": 0,
           "arrowwidth": 1
          },
          "autotypenumbers": "strict",
          "coloraxis": {
           "colorbar": {
            "outlinewidth": 0,
            "ticks": ""
           }
          },
          "colorscale": {
           "diverging": [
            [
             0,
             "#8e0152"
            ],
            [
             0.1,
             "#c51b7d"
            ],
            [
             0.2,
             "#de77ae"
            ],
            [
             0.3,
             "#f1b6da"
            ],
            [
             0.4,
             "#fde0ef"
            ],
            [
             0.5,
             "#f7f7f7"
            ],
            [
             0.6,
             "#e6f5d0"
            ],
            [
             0.7,
             "#b8e186"
            ],
            [
             0.8,
             "#7fbc41"
            ],
            [
             0.9,
             "#4d9221"
            ],
            [
             1,
             "#276419"
            ]
           ],
           "sequential": [
            [
             0,
             "#0d0887"
            ],
            [
             0.1111111111111111,
             "#46039f"
            ],
            [
             0.2222222222222222,
             "#7201a8"
            ],
            [
             0.3333333333333333,
             "#9c179e"
            ],
            [
             0.4444444444444444,
             "#bd3786"
            ],
            [
             0.5555555555555556,
             "#d8576b"
            ],
            [
             0.6666666666666666,
             "#ed7953"
            ],
            [
             0.7777777777777778,
             "#fb9f3a"
            ],
            [
             0.8888888888888888,
             "#fdca26"
            ],
            [
             1,
             "#f0f921"
            ]
           ],
           "sequentialminus": [
            [
             0,
             "#0d0887"
            ],
            [
             0.1111111111111111,
             "#46039f"
            ],
            [
             0.2222222222222222,
             "#7201a8"
            ],
            [
             0.3333333333333333,
             "#9c179e"
            ],
            [
             0.4444444444444444,
             "#bd3786"
            ],
            [
             0.5555555555555556,
             "#d8576b"
            ],
            [
             0.6666666666666666,
             "#ed7953"
            ],
            [
             0.7777777777777778,
             "#fb9f3a"
            ],
            [
             0.8888888888888888,
             "#fdca26"
            ],
            [
             1,
             "#f0f921"
            ]
           ]
          },
          "colorway": [
           "#636efa",
           "#EF553B",
           "#00cc96",
           "#ab63fa",
           "#FFA15A",
           "#19d3f3",
           "#FF6692",
           "#B6E880",
           "#FF97FF",
           "#FECB52"
          ],
          "font": {
           "color": "#2a3f5f"
          },
          "geo": {
           "bgcolor": "white",
           "lakecolor": "white",
           "landcolor": "#E5ECF6",
           "showlakes": true,
           "showland": true,
           "subunitcolor": "white"
          },
          "hoverlabel": {
           "align": "left"
          },
          "hovermode": "closest",
          "mapbox": {
           "style": "light"
          },
          "paper_bgcolor": "white",
          "plot_bgcolor": "#E5ECF6",
          "polar": {
           "angularaxis": {
            "gridcolor": "white",
            "linecolor": "white",
            "ticks": ""
           },
           "bgcolor": "#E5ECF6",
           "radialaxis": {
            "gridcolor": "white",
            "linecolor": "white",
            "ticks": ""
           }
          },
          "scene": {
           "xaxis": {
            "backgroundcolor": "#E5ECF6",
            "gridcolor": "white",
            "gridwidth": 2,
            "linecolor": "white",
            "showbackground": true,
            "ticks": "",
            "zerolinecolor": "white"
           },
           "yaxis": {
            "backgroundcolor": "#E5ECF6",
            "gridcolor": "white",
            "gridwidth": 2,
            "linecolor": "white",
            "showbackground": true,
            "ticks": "",
            "zerolinecolor": "white"
           },
           "zaxis": {
            "backgroundcolor": "#E5ECF6",
            "gridcolor": "white",
            "gridwidth": 2,
            "linecolor": "white",
            "showbackground": true,
            "ticks": "",
            "zerolinecolor": "white"
           }
          },
          "shapedefaults": {
           "line": {
            "color": "#2a3f5f"
           }
          },
          "ternary": {
           "aaxis": {
            "gridcolor": "white",
            "linecolor": "white",
            "ticks": ""
           },
           "baxis": {
            "gridcolor": "white",
            "linecolor": "white",
            "ticks": ""
           },
           "bgcolor": "#E5ECF6",
           "caxis": {
            "gridcolor": "white",
            "linecolor": "white",
            "ticks": ""
           }
          },
          "title": {
           "x": 0.05
          },
          "xaxis": {
           "automargin": true,
           "gridcolor": "white",
           "linecolor": "white",
           "ticks": "",
           "title": {
            "standoff": 15
           },
           "zerolinecolor": "white",
           "zerolinewidth": 2
          },
          "yaxis": {
           "automargin": true,
           "gridcolor": "white",
           "linecolor": "white",
           "ticks": "",
           "title": {
            "standoff": 15
           },
           "zerolinecolor": "white",
           "zerolinewidth": 2
          }
         }
        },
        "title": {
         "text": "Init"
        },
        "width": 100,
        "xaxis": {
         "title": {
          "text": "x"
         }
        }
       }
      },
      "text/html": [
       "<div>                            <div id=\"c03b304c-d94d-4937-9e6c-8c8d59c704d2\" class=\"plotly-graph-div\" style=\"height:100px; width:100px;\"></div>            <script type=\"text/javascript\">                require([\"plotly\"], function(Plotly) {                    window.PLOTLYENV=window.PLOTLYENV || {};                                    if (document.getElementById(\"c03b304c-d94d-4937-9e6c-8c8d59c704d2\")) {                    Plotly.newPlot(                        \"c03b304c-d94d-4937-9e6c-8c8d59c704d2\",                        [{\"mode\": \"markers\", \"type\": \"scatter\", \"x\": [1, 2], \"y\": [42, 42]}],                        {\"height\": 100, \"template\": {\"data\": {\"bar\": [{\"error_x\": {\"color\": \"#2a3f5f\"}, \"error_y\": {\"color\": \"#2a3f5f\"}, \"marker\": {\"line\": {\"color\": \"#E5ECF6\", \"width\": 0.5}}, \"type\": \"bar\"}], \"barpolar\": [{\"marker\": {\"line\": {\"color\": \"#E5ECF6\", \"width\": 0.5}}, \"type\": \"barpolar\"}], \"carpet\": [{\"aaxis\": {\"endlinecolor\": \"#2a3f5f\", \"gridcolor\": \"white\", \"linecolor\": \"white\", \"minorgridcolor\": \"white\", \"startlinecolor\": \"#2a3f5f\"}, \"baxis\": {\"endlinecolor\": \"#2a3f5f\", \"gridcolor\": \"white\", \"linecolor\": \"white\", \"minorgridcolor\": \"white\", \"startlinecolor\": \"#2a3f5f\"}, \"type\": \"carpet\"}], \"choropleth\": [{\"colorbar\": {\"outlinewidth\": 0, \"ticks\": \"\"}, \"type\": \"choropleth\"}], \"contour\": [{\"colorbar\": {\"outlinewidth\": 0, \"ticks\": \"\"}, \"colorscale\": [[0.0, \"#0d0887\"], [0.1111111111111111, \"#46039f\"], [0.2222222222222222, \"#7201a8\"], [0.3333333333333333, \"#9c179e\"], [0.4444444444444444, \"#bd3786\"], [0.5555555555555556, \"#d8576b\"], [0.6666666666666666, \"#ed7953\"], [0.7777777777777778, \"#fb9f3a\"], [0.8888888888888888, \"#fdca26\"], [1.0, \"#f0f921\"]], \"type\": \"contour\"}], \"contourcarpet\": [{\"colorbar\": {\"outlinewidth\": 0, \"ticks\": \"\"}, \"type\": \"contourcarpet\"}], \"heatmap\": [{\"colorbar\": {\"outlinewidth\": 0, \"ticks\": \"\"}, \"colorscale\": [[0.0, \"#0d0887\"], [0.1111111111111111, \"#46039f\"], [0.2222222222222222, \"#7201a8\"], [0.3333333333333333, \"#9c179e\"], [0.4444444444444444, \"#bd3786\"], [0.5555555555555556, \"#d8576b\"], [0.6666666666666666, \"#ed7953\"], [0.7777777777777778, \"#fb9f3a\"], [0.8888888888888888, \"#fdca26\"], [1.0, \"#f0f921\"]], \"type\": \"heatmap\"}], \"heatmapgl\": [{\"colorbar\": {\"outlinewidth\": 0, \"ticks\": \"\"}, \"colorscale\": [[0.0, \"#0d0887\"], [0.1111111111111111, \"#46039f\"], [0.2222222222222222, \"#7201a8\"], [0.3333333333333333, \"#9c179e\"], [0.4444444444444444, \"#bd3786\"], [0.5555555555555556, \"#d8576b\"], [0.6666666666666666, \"#ed7953\"], [0.7777777777777778, \"#fb9f3a\"], [0.8888888888888888, \"#fdca26\"], [1.0, \"#f0f921\"]], \"type\": \"heatmapgl\"}], \"histogram\": [{\"marker\": {\"colorbar\": {\"outlinewidth\": 0, \"ticks\": \"\"}}, \"type\": \"histogram\"}], \"histogram2d\": [{\"colorbar\": {\"outlinewidth\": 0, \"ticks\": \"\"}, \"colorscale\": [[0.0, \"#0d0887\"], [0.1111111111111111, \"#46039f\"], [0.2222222222222222, \"#7201a8\"], [0.3333333333333333, \"#9c179e\"], [0.4444444444444444, \"#bd3786\"], [0.5555555555555556, \"#d8576b\"], [0.6666666666666666, \"#ed7953\"], [0.7777777777777778, \"#fb9f3a\"], [0.8888888888888888, \"#fdca26\"], [1.0, \"#f0f921\"]], \"type\": \"histogram2d\"}], \"histogram2dcontour\": [{\"colorbar\": {\"outlinewidth\": 0, \"ticks\": \"\"}, \"colorscale\": [[0.0, \"#0d0887\"], [0.1111111111111111, \"#46039f\"], [0.2222222222222222, \"#7201a8\"], [0.3333333333333333, \"#9c179e\"], [0.4444444444444444, \"#bd3786\"], [0.5555555555555556, \"#d8576b\"], [0.6666666666666666, \"#ed7953\"], [0.7777777777777778, \"#fb9f3a\"], [0.8888888888888888, \"#fdca26\"], [1.0, \"#f0f921\"]], \"type\": \"histogram2dcontour\"}], \"mesh3d\": [{\"colorbar\": {\"outlinewidth\": 0, \"ticks\": \"\"}, \"type\": \"mesh3d\"}], \"parcoords\": [{\"line\": {\"colorbar\": {\"outlinewidth\": 0, \"ticks\": \"\"}}, \"type\": \"parcoords\"}], \"pie\": [{\"automargin\": true, \"type\": \"pie\"}], \"scatter\": [{\"marker\": {\"colorbar\": {\"outlinewidth\": 0, \"ticks\": \"\"}}, \"type\": \"scatter\"}], \"scatter3d\": [{\"line\": {\"colorbar\": {\"outlinewidth\": 0, \"ticks\": \"\"}}, \"marker\": {\"colorbar\": {\"outlinewidth\": 0, \"ticks\": \"\"}}, \"type\": \"scatter3d\"}], \"scattercarpet\": [{\"marker\": {\"colorbar\": {\"outlinewidth\": 0, \"ticks\": \"\"}}, \"type\": \"scattercarpet\"}], \"scattergeo\": [{\"marker\": {\"colorbar\": {\"outlinewidth\": 0, \"ticks\": \"\"}}, \"type\": \"scattergeo\"}], \"scattergl\": [{\"marker\": {\"colorbar\": {\"outlinewidth\": 0, \"ticks\": \"\"}}, \"type\": \"scattergl\"}], \"scattermapbox\": [{\"marker\": {\"colorbar\": {\"outlinewidth\": 0, \"ticks\": \"\"}}, \"type\": \"scattermapbox\"}], \"scatterpolar\": [{\"marker\": {\"colorbar\": {\"outlinewidth\": 0, \"ticks\": \"\"}}, \"type\": \"scatterpolar\"}], \"scatterpolargl\": [{\"marker\": {\"colorbar\": {\"outlinewidth\": 0, \"ticks\": \"\"}}, \"type\": \"scatterpolargl\"}], \"scatterternary\": [{\"marker\": {\"colorbar\": {\"outlinewidth\": 0, \"ticks\": \"\"}}, \"type\": \"scatterternary\"}], \"surface\": [{\"colorbar\": {\"outlinewidth\": 0, \"ticks\": \"\"}, \"colorscale\": [[0.0, \"#0d0887\"], [0.1111111111111111, \"#46039f\"], [0.2222222222222222, \"#7201a8\"], [0.3333333333333333, \"#9c179e\"], [0.4444444444444444, \"#bd3786\"], [0.5555555555555556, \"#d8576b\"], [0.6666666666666666, \"#ed7953\"], [0.7777777777777778, \"#fb9f3a\"], [0.8888888888888888, \"#fdca26\"], [1.0, \"#f0f921\"]], \"type\": \"surface\"}], \"table\": [{\"cells\": {\"fill\": {\"color\": \"#EBF0F8\"}, \"line\": {\"color\": \"white\"}}, \"header\": {\"fill\": {\"color\": \"#C8D4E3\"}, \"line\": {\"color\": \"white\"}}, \"type\": \"table\"}]}, \"layout\": {\"annotationdefaults\": {\"arrowcolor\": \"#2a3f5f\", \"arrowhead\": 0, \"arrowwidth\": 1}, \"autotypenumbers\": \"strict\", \"coloraxis\": {\"colorbar\": {\"outlinewidth\": 0, \"ticks\": \"\"}}, \"colorscale\": {\"diverging\": [[0, \"#8e0152\"], [0.1, \"#c51b7d\"], [0.2, \"#de77ae\"], [0.3, \"#f1b6da\"], [0.4, \"#fde0ef\"], [0.5, \"#f7f7f7\"], [0.6, \"#e6f5d0\"], [0.7, \"#b8e186\"], [0.8, \"#7fbc41\"], [0.9, \"#4d9221\"], [1, \"#276419\"]], \"sequential\": [[0.0, \"#0d0887\"], [0.1111111111111111, \"#46039f\"], [0.2222222222222222, \"#7201a8\"], [0.3333333333333333, \"#9c179e\"], [0.4444444444444444, \"#bd3786\"], [0.5555555555555556, \"#d8576b\"], [0.6666666666666666, \"#ed7953\"], [0.7777777777777778, \"#fb9f3a\"], [0.8888888888888888, \"#fdca26\"], [1.0, \"#f0f921\"]], \"sequentialminus\": [[0.0, \"#0d0887\"], [0.1111111111111111, \"#46039f\"], [0.2222222222222222, \"#7201a8\"], [0.3333333333333333, \"#9c179e\"], [0.4444444444444444, \"#bd3786\"], [0.5555555555555556, \"#d8576b\"], [0.6666666666666666, \"#ed7953\"], [0.7777777777777778, \"#fb9f3a\"], [0.8888888888888888, \"#fdca26\"], [1.0, \"#f0f921\"]]}, \"colorway\": [\"#636efa\", \"#EF553B\", \"#00cc96\", \"#ab63fa\", \"#FFA15A\", \"#19d3f3\", \"#FF6692\", \"#B6E880\", \"#FF97FF\", \"#FECB52\"], \"font\": {\"color\": \"#2a3f5f\"}, \"geo\": {\"bgcolor\": \"white\", \"lakecolor\": \"white\", \"landcolor\": \"#E5ECF6\", \"showlakes\": true, \"showland\": true, \"subunitcolor\": \"white\"}, \"hoverlabel\": {\"align\": \"left\"}, \"hovermode\": \"closest\", \"mapbox\": {\"style\": \"light\"}, \"paper_bgcolor\": \"white\", \"plot_bgcolor\": \"#E5ECF6\", \"polar\": {\"angularaxis\": {\"gridcolor\": \"white\", \"linecolor\": \"white\", \"ticks\": \"\"}, \"bgcolor\": \"#E5ECF6\", \"radialaxis\": {\"gridcolor\": \"white\", \"linecolor\": \"white\", \"ticks\": \"\"}}, \"scene\": {\"xaxis\": {\"backgroundcolor\": \"#E5ECF6\", \"gridcolor\": \"white\", \"gridwidth\": 2, \"linecolor\": \"white\", \"showbackground\": true, \"ticks\": \"\", \"zerolinecolor\": \"white\"}, \"yaxis\": {\"backgroundcolor\": \"#E5ECF6\", \"gridcolor\": \"white\", \"gridwidth\": 2, \"linecolor\": \"white\", \"showbackground\": true, \"ticks\": \"\", \"zerolinecolor\": \"white\"}, \"zaxis\": {\"backgroundcolor\": \"#E5ECF6\", \"gridcolor\": \"white\", \"gridwidth\": 2, \"linecolor\": \"white\", \"showbackground\": true, \"ticks\": \"\", \"zerolinecolor\": \"white\"}}, \"shapedefaults\": {\"line\": {\"color\": \"#2a3f5f\"}}, \"ternary\": {\"aaxis\": {\"gridcolor\": \"white\", \"linecolor\": \"white\", \"ticks\": \"\"}, \"baxis\": {\"gridcolor\": \"white\", \"linecolor\": \"white\", \"ticks\": \"\"}, \"bgcolor\": \"#E5ECF6\", \"caxis\": {\"gridcolor\": \"white\", \"linecolor\": \"white\", \"ticks\": \"\"}}, \"title\": {\"x\": 0.05}, \"xaxis\": {\"automargin\": true, \"gridcolor\": \"white\", \"linecolor\": \"white\", \"ticks\": \"\", \"title\": {\"standoff\": 15}, \"zerolinecolor\": \"white\", \"zerolinewidth\": 2}, \"yaxis\": {\"automargin\": true, \"gridcolor\": \"white\", \"linecolor\": \"white\", \"ticks\": \"\", \"title\": {\"standoff\": 15}, \"zerolinecolor\": \"white\", \"zerolinewidth\": 2}}}, \"title\": {\"text\": \"Init\"}, \"width\": 100, \"xaxis\": {\"title\": {\"text\": \"x\"}}},                        {\"responsive\": true}                    ).then(function(){\n",
       "                            \n",
       "var gd = document.getElementById('c03b304c-d94d-4937-9e6c-8c8d59c704d2');\n",
       "var x = new MutationObserver(function (mutations, observer) {{\n",
       "        var display = window.getComputedStyle(gd).display;\n",
       "        if (!display || display === 'none') {{\n",
       "            console.log([gd, 'removed!']);\n",
       "            Plotly.purge(gd);\n",
       "            observer.disconnect();\n",
       "        }}\n",
       "}});\n",
       "\n",
       "// Listen for the removal of the full notebook cells\n",
       "var notebookContainer = gd.closest('#notebook-container');\n",
       "if (notebookContainer) {{\n",
       "    x.observe(notebookContainer, {childList: true});\n",
       "}}\n",
       "\n",
       "// Listen for the clearing of the current output cell\n",
       "var outputEl = gd.closest('.output');\n",
       "if (outputEl) {{\n",
       "    x.observe(outputEl, {childList: true});\n",
       "}}\n",
       "\n",
       "                        })                };                });            </script>        </div>"
      ]
     },
     "metadata": {},
     "output_type": "display_data"
    }
   ],
   "source": [
    "import numpy as np\n",
    "import scipy.stats as stt\n",
    "\n",
    "import chart_studio.plotly as ply\n",
    "import chart_studio.tools as plytool\n",
    "import plotly.figure_factory as ff\n",
    "import plotly.graph_objs as go\n",
    "import plotly.offline as plyoff\n",
    "import plotly.subplots as plysub\n",
    "\n",
    "# to use plotly offline, need to initialize with a plot\\n\",\n",
    "plyoff.init_notebook_mode(connected=True)\n",
    "init = go.Figure(data=[go.Scatter({'x':[1, 2], 'y':[42, 42], 'mode':'markers'})], layout=go.Layout(title='Init', xaxis={'title':'x'}, height=100, width=100))\n",
    "plyoff.iplot(init)"
   ]
  },
  {
   "cell_type": "markdown",
   "id": "820ed8c3-0a04-464a-9e70-55c9f91125fa",
   "metadata": {
    "tags": []
   },
   "source": [
    "## Mathematical Optimization\n",
    "Optimization is the process of finding some numerical values that generate a minimum or maximum value for a specified function. Examples include finding the best parameters for a statistical distribution fit to some data, numerically solving differential equations, or feature selection in machine learning.\n",
    "\n",
    "There are many types and classes of optimization algorithms. Most that have been invented by mathematicianas and computer scientists rely on function derivatives / gradients. Anybody who's studied the topic even slightly will likely remember [Newton-Raphson](https://en.wikipedia.org/wiki/Newton%27s_method) or the [BFGS](https://en.wikipedia.org/wiki/Broyden%E2%80%93Fletcher%E2%80%93Goldfarb%E2%80%93Shanno_algorithm) - the latter of which even need the second derivaties (the [Hessian](https://en.wikipedia.org/wiki/Hessian_matrix)). Mathematical optimization algorithms typically iterate over two steps:\n",
    "\n",
    "1.  evaluate current solution\n",
    "2. find new solution to try\n",
    "\n",
    "A series of individual solutions are identified and evluated, until the sequence converges to a solution.\n",
    "\n",
    "Gradient-following methods can have good properties, but also two major issues.\n",
    "\n",
    "1. The first is the need to compute derivatives. This can often be very difficult - even assuming derivatives can be analytically solved - and time consuming. Furthermore, not all functions we wish to optimizte even have a derivative. What is the derivative of an accuracy loss function for a [Decision Tree Classifier](https://en.wikipedia.org/wiki/Decision_tree_learning)?\n",
    "\n",
    "2. The second issue is that gradient-followers can easily get stuck in local optima, rather than finding a global optimum point. Most such algorithms rely on being provided an initial values, at which point the necessary derivatives are computed to determine the direction (and perhaps distance) to find the next point to evaluate. Depending on the curvature of the function to optimize, and the initial solution, the algorithm may get stuck in a local, not global, optimum.\n",
    "\n",
    "The figure generated below demonstrates this second point. The curve to be maximized has two optima with a saddle point in between. Four possible initial values are shown. When the curve's gradient is evaluated at the two $x_0$ points in red, an optimization algorithm will converge to the local optimum. The two in greed will converge to the global optimum. In general, any initial value on the right side of the black vertical line will cause an optimization algorithm to converge to the local optimum; initial values to the left of it will converge to the global optimum."
   ]
  },
  {
   "cell_type": "code",
   "execution_count": 2,
   "id": "703b3508-3de3-43b0-a8f9-1b9fed5cb893",
   "metadata": {},
   "outputs": [
    {
     "data": {
      "application/vnd.plotly.v1+json": {
       "config": {
        "linkText": "Export to plot.ly",
        "plotlyServerURL": "https://plot.ly",
        "showLink": false
       },
       "data": [
        {
         "mode": "lines",
         "name": "Kernel Density Estimate",
         "type": "scatter",
         "x": [
          -3.2412673400690726,
          -3.205619104738802,
          -3.169970869408532,
          -3.1343226340782615,
          -3.0986743987479914,
          -3.063026163417721,
          -3.027377928087451,
          -2.9917296927571804,
          -2.95608145742691,
          -2.92043322209664,
          -2.8847849867663693,
          -2.8491367514360992,
          -2.8134885161058287,
          -2.7778402807755587,
          -2.742192045445288,
          -2.7065438101150177,
          -2.6708955747847476,
          -2.635247339454477,
          -2.5995991041242066,
          -2.5639508687939365,
          -2.5283026334636665,
          -2.492654398133396,
          -2.4570061628031254,
          -2.4213579274728554,
          -2.385709692142585,
          -2.3500614568123144,
          -2.3144132214820443,
          -2.2787649861517743,
          -2.2431167508215037,
          -2.2074685154912332,
          -2.171820280160963,
          -2.1361720448306927,
          -2.100523809500422,
          -2.064875574170152,
          -2.029227338839882,
          -1.9935791035096115,
          -1.957930868179341,
          -1.9222826328490707,
          -1.8866343975188005,
          -1.8509861621885302,
          -1.81533792685826,
          -1.7796896915279896,
          -1.744041456197719,
          -1.7083932208674488,
          -1.6727449855371785,
          -1.6370967502069083,
          -1.601448514876638,
          -1.5658002795463677,
          -1.5301520442160972,
          -1.494503808885827,
          -1.4588555735555566,
          -1.4232073382252863,
          -1.387559102895016,
          -1.3519108675647458,
          -1.3162626322344755,
          -1.280614396904205,
          -1.2449661615739347,
          -1.2093179262436644,
          -1.173669690913394,
          -1.1380214555831238,
          -1.1023732202528533,
          -1.0667249849225833,
          -1.0310767495923128,
          -0.9954285142620427,
          -0.9597802789317722,
          -0.9241320436015017,
          -0.8884838082712316,
          -0.8528355729409611,
          -0.8171873376106911,
          -0.7815391022804206,
          -0.7458908669501505,
          -0.71024263161988,
          -0.6745943962896095,
          -0.6389461609593394,
          -0.6032979256290689,
          -0.5676496902987989,
          -0.5320014549685284,
          -0.49635321963825785,
          -0.4607049843079878,
          -0.4250567489777173,
          -0.3894085136474472,
          -0.3537602783171767,
          -0.31811204298690665,
          -0.28246380765663615,
          -0.24681557232636564,
          -0.21116733699609558,
          -0.17551910166582507,
          -0.139870866335555,
          -0.1042226310052845,
          -0.06857439567501444,
          -0.03292616034474394,
          0.002722074985526568,
          0.03837031031579663,
          0.07401854564606714,
          0.1096667809763372,
          0.1453150163066077,
          0.1809632516368782,
          0.21661148696714827,
          0.2522597222974188,
          0.28790795762768884,
          0.32355619295795934,
          0.3592044282882294,
          0.3948526636184999,
          0.4305008989487704,
          0.4661491342790405,
          0.501797369609311,
          0.537445604939581,
          0.5730938402698516,
          0.6087420756001216,
          0.6443903109303921,
          0.6800385462606626,
          0.7156867815909327,
          0.7513350169212032,
          0.7869832522514737,
          0.8226314875817438,
          0.8582797229120138,
          0.8939279582422848,
          0.9295761935725548,
          0.9652244289028249,
          1.000872664233095,
          1.036520899563366,
          1.072169134893636,
          1.107817370223906,
          1.143465605554177,
          1.179113840884447,
          1.214762076214717,
          1.2504103115449872,
          1.2860585468752581,
          1.3217067822055282,
          1.3573550175357982,
          1.3930032528660692,
          1.4286514881963392,
          1.4642997235266093,
          1.4999479588568794,
          1.5355961941871503,
          1.5712444295174204,
          1.6068926648476904,
          1.6425409001779614,
          1.6781891355082315,
          1.7138373708385015,
          1.7494856061687716,
          1.7851338414990425,
          1.8207820768293126,
          1.8564303121595827,
          1.8920785474898536,
          1.9277267828201237,
          1.9633750181503937,
          1.9990232534806638,
          2.0346714888109347,
          2.070319724141205,
          2.105967959471475,
          2.141616194801746,
          2.177264430132016,
          2.212912665462286,
          2.248560900792557,
          2.284209136122827,
          2.319857371453097,
          2.355505606783367,
          2.391153842113638,
          2.426802077443908,
          2.462450312774178,
          2.498098548104449,
          2.533746783434719,
          2.569395018764989,
          2.6050432540952593,
          2.6406914894255302,
          2.6763397247558003,
          2.7119879600860703,
          2.7476361954163413,
          2.7832844307466114,
          2.8189326660768814,
          2.8545809014071515,
          2.8902291367374224,
          2.9258773720676925,
          2.9615256073979626,
          2.9971738427282335,
          3.0328220780585036,
          3.0684703133887736,
          3.1041185487190437,
          3.1397667840493146,
          3.1754150193795847,
          3.2110632547098548,
          3.2467114900401257,
          3.2823597253703958,
          3.318007960700666,
          3.353656196030936,
          3.389304431361207,
          3.424952666691477,
          3.460600902021747,
          3.496249137352018,
          3.531897372682288,
          3.567545608012558,
          3.603193843342829,
          3.638842078673099,
          3.674490314003369,
          3.710138549333639,
          3.74578678466391,
          3.78143501999418,
          3.8170832553244503,
          3.852731490654721
         ],
         "y": [
          0.001465177340896476,
          0.0015111825659408346,
          0.0015523527997829646,
          0.001590902974783333,
          0.0016296196150826095,
          0.001671784077589237,
          0.001721085689262514,
          0.0017815361418891658,
          0.0018573958299513394,
          0.001953120586324233,
          0.002073333704927584,
          0.0022228236643501947,
          0.002406563168021489,
          0.0026297406727155857,
          0.0028977921713621005,
          0.0032164192232311327,
          0.00359157950190325,
          0.004029438625958019,
          0.004536276619684862,
          0.005118348585049595,
          0.005781706337479415,
          0.006531994943827123,
          0.007374244273871344,
          0.008312679835366077,
          0.009350578472602641,
          0.010490192437555989,
          0.011732759770271457,
          0.01307861020661728,
          0.01452736480329553,
          0.016078215385946917,
          0.01773025832600685,
          0.019482847672184205,
          0.021335926811256362,
          0.023290296758847147,
          0.025347783470049234,
          0.027511276096115353,
          0.029784622030789198,
          0.03217238133228303,
          0.03467946059854767,
          0.03731066228063168,
          0.0400701974713554,
          0.042961216532170735,
          0.0459854113430563,
          0.04914273520786091,
          0.05243127224365536,
          0.055847269088839455,
          0.05938532038513635,
          0.06303867855820984,
          0.06679964082174483,
          0.07065995458603888,
          0.07461117837396238,
          0.07864493976205791,
          0.08275304448578158,
          0.08692741029453746,
          0.09115982310843272,
          0.09544153857726728,
          0.09976277607945247,
          0.10411217147920154,
          0.1084762670674757,
          0.11283912036272159,
          0.11718210718702023,
          0.12148397910040867,
          0.12572121233422284,
          0.12986865711688528,
          0.13390046560430485,
          0.1377912466300838,
          0.14151736921139704,
          0.1450583168297176,
          0.14839798296177104,
          0.15152579637085098,
          0.15443757259838198,
          0.15713600534700464,
          0.1596307366313398,
          0.16193797562556142,
          0.16407967050010974,
          0.1660822723800154,
          0.16797516299898388,
          0.16978884498444813,
          0.1715530137212494,
          0.17329464074207723,
          0.17503619966581588,
          0.17679415676379046,
          0.17857783002776953,
          0.18038869465775834,
          0.1822201813197615,
          0.18405797890303788,
          0.18588081857632066,
          0.18766168338645517,
          0.18936935986004666,
          0.19097022699387828,
          0.19243016500178545,
          0.19371646192796554,
          0.19479960079500153,
          0.1956548227772366,
          0.19626338188503845,
          0.19661343226421785,
          0.19670051854072892,
          0.1965276704859928,
          0.1961051332945805,
          0.19544979157774806,
          0.19458436654180677,
          0.19353647981990418,
          0.19233768266332452,
          0.1910225449924953,
          0.18962788533963693,
          0.18819220109938128,
          0.18675533075522502,
          0.1853583486286765,
          0.18404366144218665,
          0.18285524795520056,
          0.18183896120583443,
          0.18104279988779254,
          0.18051705256102288,
          0.18031422602779004,
          0.18048868641365182,
          0.18109596633868263,
          0.18219172134157552,
          0.18383035032294837,
          0.18606332510613097,
          0.18893730055525276,
          0.19249209698521821,
          0.19675865960539848,
          0.20175710504618188,
          0.2074949629270117,
          0.21396571175295703,
          0.22114769427290024,
          0.22900347896816606,
          0.23747971267305207,
          0.24650748545702225,
          0.2560032037623316,
          0.2658699423846241,
          0.2759992213830522,
          0.28627313185121717,
          0.2965667163663636,
          0.3067504976795296,
          0.3166930444997877,
          0.32626346727889005,
          0.3353337501148939,
          0.3437808465559634,
          0.3514884952522583,
          0.3583487429713114,
          0.3642631935154046,
          0.3691440272947422,
          0.3729148537929426,
          0.37551146500437665,
          0.37688255080945166,
          0.37699041780731624,
          0.37581172395127765,
          0.3733382067255299,
          0.36957734795154584,
          0.3645528892954849,
          0.35830509424511403,
          0.3508906484096206,
          0.3423821021335484,
          0.33286678697404737,
          0.3224451777039533,
          0.3112287194827662,
          0.29933718984356855,
          0.28689571101563444,
          0.27403156420845265,
          0.26087097946756826,
          0.24753608003342156,
          0.23414214832826263,
          0.22079535335554568,
          0.20759103977720186,
          0.19461263185712926,
          0.18193115607987687,
          0.16960533979525047,
          0.1576822042730071,
          0.1461980424944102,
          0.1351796567970596,
          0.12464572946004349,
          0.1146082092798275,
          0.10507361669844278,
          0.09604419580883929,
          0.0875188699183049,
          0.07949398477521058,
          0.07196384710999205,
          0.06492108376554077,
          0.058356857427934734,
          0.05226097892412263,
          0.04662195425279774,
          0.04142699861508465,
          0.03666204165150858,
          0.03231173973653456,
          0.028359504024612712,
          0.024787547905344084,
          0.021576954893214324,
          0.018707767448304772,
          0.01615909807166171,
          0.013909265310022585,
          0.01193595813416812,
          0.01021643184522659,
          0.008727736894018364,
          0.007446978852563709,
          0.006351603696435934,
          0.005419698231362514,
          0.0046302917112966266,
          0.003963642165882774,
          0.0034014901981484305
         ]
        },
        {
         "line": {
          "color": "black"
         },
         "mode": "lines",
         "type": "scatter",
         "x": [
          0.78698325,
          0.78698325
         ],
         "y": [
          0.001465177340896476,
          0.37699041780731624
         ]
        }
       ],
       "layout": {
        "annotations": [
         {
          "align": "center",
          "arrowcolor": "#ff0000",
          "arrowhead": 2,
          "arrowsize": 1,
          "arrowwidth": 2,
          "bgcolor": "#ff0000",
          "bordercolor": "#c7c7c7",
          "borderpad": 4,
          "borderwidth": 2,
          "font": {
           "color": "#ffffff"
          },
          "opacity": 0.8,
          "showarrow": true,
          "text": "$x_0 = -1.00\\text{; Gradient →; Local Optimum}$",
          "x": -1,
          "xref": "x",
          "y": 0.12934271352553997,
          "yref": "y"
         },
         {
          "align": "center",
          "arrowcolor": "#ff0000",
          "arrowhead": 2,
          "arrowsize": 1,
          "arrowwidth": 2,
          "bgcolor": "#ff0000",
          "bordercolor": "#c7c7c7",
          "borderpad": 4,
          "borderwidth": 2,
          "font": {
           "color": "#ffffff"
          },
          "opacity": 0.8,
          "showarrow": true,
          "text": "$x_0 = 0.40\\text{; Gradient ←; Local Optimum}$",
          "x": 0.4,
          "xref": "x",
          "y": 0.19215412708071558,
          "yref": "y"
         },
         {
          "align": "center",
          "arrowcolor": "#00FF00",
          "arrowhead": 2,
          "arrowsize": 1,
          "arrowwidth": 2,
          "bgcolor": "#00FF00",
          "bordercolor": "#c7c7c7",
          "borderpad": 4,
          "borderwidth": 2,
          "font": {
           "color": "#000000"
          },
          "opacity": 0.8,
          "showarrow": true,
          "text": "$x_0 = 1.50\\text{; Gradient →; Global Optimum}$",
          "x": 1.5,
          "xref": "x",
          "y": 0.2965816950747678,
          "yref": "y"
         },
         {
          "align": "center",
          "arrowcolor": "#00FF00",
          "arrowhead": 2,
          "arrowsize": 1,
          "arrowwidth": 2,
          "bgcolor": "#00FF00",
          "bordercolor": "#c7c7c7",
          "borderpad": 4,
          "borderwidth": 2,
          "font": {
           "color": "#000000"
          },
          "opacity": 0.8,
          "showarrow": true,
          "text": "$x_0 = 3.00\\text{; Gradient ; Global Optimum}$",
          "x": 3,
          "xref": "x",
          "y": 0.0868644633630691,
          "yref": "y"
         },
         {
          "align": "center",
          "arrowcolor": "#636363",
          "arrowhead": 2,
          "arrowsize": 1,
          "arrowwidth": 2,
          "bgcolor": "#6d72f1",
          "bordercolor": "#c7c7c7",
          "borderpad": 4,
          "borderwidth": 2,
          "font": {
           "color": "#ffffff"
          },
          "opacity": 0.8,
          "showarrow": true,
          "text": "← Fails; Succeeds →",
          "x": 0.78698325,
          "xref": "x",
          "y": 0.18031422602926603,
          "yref": "y"
         }
        ],
        "template": {
         "data": {
          "bar": [
           {
            "error_x": {
             "color": "#2a3f5f"
            },
            "error_y": {
             "color": "#2a3f5f"
            },
            "marker": {
             "line": {
              "color": "#E5ECF6",
              "width": 0.5
             }
            },
            "type": "bar"
           }
          ],
          "barpolar": [
           {
            "marker": {
             "line": {
              "color": "#E5ECF6",
              "width": 0.5
             }
            },
            "type": "barpolar"
           }
          ],
          "carpet": [
           {
            "aaxis": {
             "endlinecolor": "#2a3f5f",
             "gridcolor": "white",
             "linecolor": "white",
             "minorgridcolor": "white",
             "startlinecolor": "#2a3f5f"
            },
            "baxis": {
             "endlinecolor": "#2a3f5f",
             "gridcolor": "white",
             "linecolor": "white",
             "minorgridcolor": "white",
             "startlinecolor": "#2a3f5f"
            },
            "type": "carpet"
           }
          ],
          "choropleth": [
           {
            "colorbar": {
             "outlinewidth": 0,
             "ticks": ""
            },
            "type": "choropleth"
           }
          ],
          "contour": [
           {
            "colorbar": {
             "outlinewidth": 0,
             "ticks": ""
            },
            "colorscale": [
             [
              0,
              "#0d0887"
             ],
             [
              0.1111111111111111,
              "#46039f"
             ],
             [
              0.2222222222222222,
              "#7201a8"
             ],
             [
              0.3333333333333333,
              "#9c179e"
             ],
             [
              0.4444444444444444,
              "#bd3786"
             ],
             [
              0.5555555555555556,
              "#d8576b"
             ],
             [
              0.6666666666666666,
              "#ed7953"
             ],
             [
              0.7777777777777778,
              "#fb9f3a"
             ],
             [
              0.8888888888888888,
              "#fdca26"
             ],
             [
              1,
              "#f0f921"
             ]
            ],
            "type": "contour"
           }
          ],
          "contourcarpet": [
           {
            "colorbar": {
             "outlinewidth": 0,
             "ticks": ""
            },
            "type": "contourcarpet"
           }
          ],
          "heatmap": [
           {
            "colorbar": {
             "outlinewidth": 0,
             "ticks": ""
            },
            "colorscale": [
             [
              0,
              "#0d0887"
             ],
             [
              0.1111111111111111,
              "#46039f"
             ],
             [
              0.2222222222222222,
              "#7201a8"
             ],
             [
              0.3333333333333333,
              "#9c179e"
             ],
             [
              0.4444444444444444,
              "#bd3786"
             ],
             [
              0.5555555555555556,
              "#d8576b"
             ],
             [
              0.6666666666666666,
              "#ed7953"
             ],
             [
              0.7777777777777778,
              "#fb9f3a"
             ],
             [
              0.8888888888888888,
              "#fdca26"
             ],
             [
              1,
              "#f0f921"
             ]
            ],
            "type": "heatmap"
           }
          ],
          "heatmapgl": [
           {
            "colorbar": {
             "outlinewidth": 0,
             "ticks": ""
            },
            "colorscale": [
             [
              0,
              "#0d0887"
             ],
             [
              0.1111111111111111,
              "#46039f"
             ],
             [
              0.2222222222222222,
              "#7201a8"
             ],
             [
              0.3333333333333333,
              "#9c179e"
             ],
             [
              0.4444444444444444,
              "#bd3786"
             ],
             [
              0.5555555555555556,
              "#d8576b"
             ],
             [
              0.6666666666666666,
              "#ed7953"
             ],
             [
              0.7777777777777778,
              "#fb9f3a"
             ],
             [
              0.8888888888888888,
              "#fdca26"
             ],
             [
              1,
              "#f0f921"
             ]
            ],
            "type": "heatmapgl"
           }
          ],
          "histogram": [
           {
            "marker": {
             "colorbar": {
              "outlinewidth": 0,
              "ticks": ""
             }
            },
            "type": "histogram"
           }
          ],
          "histogram2d": [
           {
            "colorbar": {
             "outlinewidth": 0,
             "ticks": ""
            },
            "colorscale": [
             [
              0,
              "#0d0887"
             ],
             [
              0.1111111111111111,
              "#46039f"
             ],
             [
              0.2222222222222222,
              "#7201a8"
             ],
             [
              0.3333333333333333,
              "#9c179e"
             ],
             [
              0.4444444444444444,
              "#bd3786"
             ],
             [
              0.5555555555555556,
              "#d8576b"
             ],
             [
              0.6666666666666666,
              "#ed7953"
             ],
             [
              0.7777777777777778,
              "#fb9f3a"
             ],
             [
              0.8888888888888888,
              "#fdca26"
             ],
             [
              1,
              "#f0f921"
             ]
            ],
            "type": "histogram2d"
           }
          ],
          "histogram2dcontour": [
           {
            "colorbar": {
             "outlinewidth": 0,
             "ticks": ""
            },
            "colorscale": [
             [
              0,
              "#0d0887"
             ],
             [
              0.1111111111111111,
              "#46039f"
             ],
             [
              0.2222222222222222,
              "#7201a8"
             ],
             [
              0.3333333333333333,
              "#9c179e"
             ],
             [
              0.4444444444444444,
              "#bd3786"
             ],
             [
              0.5555555555555556,
              "#d8576b"
             ],
             [
              0.6666666666666666,
              "#ed7953"
             ],
             [
              0.7777777777777778,
              "#fb9f3a"
             ],
             [
              0.8888888888888888,
              "#fdca26"
             ],
             [
              1,
              "#f0f921"
             ]
            ],
            "type": "histogram2dcontour"
           }
          ],
          "mesh3d": [
           {
            "colorbar": {
             "outlinewidth": 0,
             "ticks": ""
            },
            "type": "mesh3d"
           }
          ],
          "parcoords": [
           {
            "line": {
             "colorbar": {
              "outlinewidth": 0,
              "ticks": ""
             }
            },
            "type": "parcoords"
           }
          ],
          "pie": [
           {
            "automargin": true,
            "type": "pie"
           }
          ],
          "scatter": [
           {
            "marker": {
             "colorbar": {
              "outlinewidth": 0,
              "ticks": ""
             }
            },
            "type": "scatter"
           }
          ],
          "scatter3d": [
           {
            "line": {
             "colorbar": {
              "outlinewidth": 0,
              "ticks": ""
             }
            },
            "marker": {
             "colorbar": {
              "outlinewidth": 0,
              "ticks": ""
             }
            },
            "type": "scatter3d"
           }
          ],
          "scattercarpet": [
           {
            "marker": {
             "colorbar": {
              "outlinewidth": 0,
              "ticks": ""
             }
            },
            "type": "scattercarpet"
           }
          ],
          "scattergeo": [
           {
            "marker": {
             "colorbar": {
              "outlinewidth": 0,
              "ticks": ""
             }
            },
            "type": "scattergeo"
           }
          ],
          "scattergl": [
           {
            "marker": {
             "colorbar": {
              "outlinewidth": 0,
              "ticks": ""
             }
            },
            "type": "scattergl"
           }
          ],
          "scattermapbox": [
           {
            "marker": {
             "colorbar": {
              "outlinewidth": 0,
              "ticks": ""
             }
            },
            "type": "scattermapbox"
           }
          ],
          "scatterpolar": [
           {
            "marker": {
             "colorbar": {
              "outlinewidth": 0,
              "ticks": ""
             }
            },
            "type": "scatterpolar"
           }
          ],
          "scatterpolargl": [
           {
            "marker": {
             "colorbar": {
              "outlinewidth": 0,
              "ticks": ""
             }
            },
            "type": "scatterpolargl"
           }
          ],
          "scatterternary": [
           {
            "marker": {
             "colorbar": {
              "outlinewidth": 0,
              "ticks": ""
             }
            },
            "type": "scatterternary"
           }
          ],
          "surface": [
           {
            "colorbar": {
             "outlinewidth": 0,
             "ticks": ""
            },
            "colorscale": [
             [
              0,
              "#0d0887"
             ],
             [
              0.1111111111111111,
              "#46039f"
             ],
             [
              0.2222222222222222,
              "#7201a8"
             ],
             [
              0.3333333333333333,
              "#9c179e"
             ],
             [
              0.4444444444444444,
              "#bd3786"
             ],
             [
              0.5555555555555556,
              "#d8576b"
             ],
             [
              0.6666666666666666,
              "#ed7953"
             ],
             [
              0.7777777777777778,
              "#fb9f3a"
             ],
             [
              0.8888888888888888,
              "#fdca26"
             ],
             [
              1,
              "#f0f921"
             ]
            ],
            "type": "surface"
           }
          ],
          "table": [
           {
            "cells": {
             "fill": {
              "color": "#EBF0F8"
             },
             "line": {
              "color": "white"
             }
            },
            "header": {
             "fill": {
              "color": "#C8D4E3"
             },
             "line": {
              "color": "white"
             }
            },
            "type": "table"
           }
          ]
         },
         "layout": {
          "annotationdefaults": {
           "arrowcolor": "#2a3f5f",
           "arrowhead": 0,
           "arrowwidth": 1
          },
          "autotypenumbers": "strict",
          "coloraxis": {
           "colorbar": {
            "outlinewidth": 0,
            "ticks": ""
           }
          },
          "colorscale": {
           "diverging": [
            [
             0,
             "#8e0152"
            ],
            [
             0.1,
             "#c51b7d"
            ],
            [
             0.2,
             "#de77ae"
            ],
            [
             0.3,
             "#f1b6da"
            ],
            [
             0.4,
             "#fde0ef"
            ],
            [
             0.5,
             "#f7f7f7"
            ],
            [
             0.6,
             "#e6f5d0"
            ],
            [
             0.7,
             "#b8e186"
            ],
            [
             0.8,
             "#7fbc41"
            ],
            [
             0.9,
             "#4d9221"
            ],
            [
             1,
             "#276419"
            ]
           ],
           "sequential": [
            [
             0,
             "#0d0887"
            ],
            [
             0.1111111111111111,
             "#46039f"
            ],
            [
             0.2222222222222222,
             "#7201a8"
            ],
            [
             0.3333333333333333,
             "#9c179e"
            ],
            [
             0.4444444444444444,
             "#bd3786"
            ],
            [
             0.5555555555555556,
             "#d8576b"
            ],
            [
             0.6666666666666666,
             "#ed7953"
            ],
            [
             0.7777777777777778,
             "#fb9f3a"
            ],
            [
             0.8888888888888888,
             "#fdca26"
            ],
            [
             1,
             "#f0f921"
            ]
           ],
           "sequentialminus": [
            [
             0,
             "#0d0887"
            ],
            [
             0.1111111111111111,
             "#46039f"
            ],
            [
             0.2222222222222222,
             "#7201a8"
            ],
            [
             0.3333333333333333,
             "#9c179e"
            ],
            [
             0.4444444444444444,
             "#bd3786"
            ],
            [
             0.5555555555555556,
             "#d8576b"
            ],
            [
             0.6666666666666666,
             "#ed7953"
            ],
            [
             0.7777777777777778,
             "#fb9f3a"
            ],
            [
             0.8888888888888888,
             "#fdca26"
            ],
            [
             1,
             "#f0f921"
            ]
           ]
          },
          "colorway": [
           "#636efa",
           "#EF553B",
           "#00cc96",
           "#ab63fa",
           "#FFA15A",
           "#19d3f3",
           "#FF6692",
           "#B6E880",
           "#FF97FF",
           "#FECB52"
          ],
          "font": {
           "color": "#2a3f5f"
          },
          "geo": {
           "bgcolor": "white",
           "lakecolor": "white",
           "landcolor": "#E5ECF6",
           "showlakes": true,
           "showland": true,
           "subunitcolor": "white"
          },
          "hoverlabel": {
           "align": "left"
          },
          "hovermode": "closest",
          "mapbox": {
           "style": "light"
          },
          "paper_bgcolor": "white",
          "plot_bgcolor": "#E5ECF6",
          "polar": {
           "angularaxis": {
            "gridcolor": "white",
            "linecolor": "white",
            "ticks": ""
           },
           "bgcolor": "#E5ECF6",
           "radialaxis": {
            "gridcolor": "white",
            "linecolor": "white",
            "ticks": ""
           }
          },
          "scene": {
           "xaxis": {
            "backgroundcolor": "#E5ECF6",
            "gridcolor": "white",
            "gridwidth": 2,
            "linecolor": "white",
            "showbackground": true,
            "ticks": "",
            "zerolinecolor": "white"
           },
           "yaxis": {
            "backgroundcolor": "#E5ECF6",
            "gridcolor": "white",
            "gridwidth": 2,
            "linecolor": "white",
            "showbackground": true,
            "ticks": "",
            "zerolinecolor": "white"
           },
           "zaxis": {
            "backgroundcolor": "#E5ECF6",
            "gridcolor": "white",
            "gridwidth": 2,
            "linecolor": "white",
            "showbackground": true,
            "ticks": "",
            "zerolinecolor": "white"
           }
          },
          "shapedefaults": {
           "line": {
            "color": "#2a3f5f"
           }
          },
          "ternary": {
           "aaxis": {
            "gridcolor": "white",
            "linecolor": "white",
            "ticks": ""
           },
           "baxis": {
            "gridcolor": "white",
            "linecolor": "white",
            "ticks": ""
           },
           "bgcolor": "#E5ECF6",
           "caxis": {
            "gridcolor": "white",
            "linecolor": "white",
            "ticks": ""
           }
          },
          "title": {
           "x": 0.05
          },
          "xaxis": {
           "automargin": true,
           "gridcolor": "white",
           "linecolor": "white",
           "ticks": "",
           "title": {
            "standoff": 15
           },
           "zerolinecolor": "white",
           "zerolinewidth": 2
          },
          "yaxis": {
           "automargin": true,
           "gridcolor": "white",
           "linecolor": "white",
           "ticks": "",
           "title": {
            "standoff": 15
           },
           "zerolinecolor": "white",
           "zerolinewidth": 2
          }
         }
        },
        "title": {
         "text": "Shortfall of Gradient Following"
        }
       }
      },
      "text/html": [
       "<div>                            <div id=\"a52dd113-0bd5-477d-a5b3-2b319c0db4d6\" class=\"plotly-graph-div\" style=\"height:525px; width:100%;\"></div>            <script type=\"text/javascript\">                require([\"plotly\"], function(Plotly) {                    window.PLOTLYENV=window.PLOTLYENV || {};                                    if (document.getElementById(\"a52dd113-0bd5-477d-a5b3-2b319c0db4d6\")) {                    Plotly.newPlot(                        \"a52dd113-0bd5-477d-a5b3-2b319c0db4d6\",                        [{\"mode\": \"lines\", \"name\": \"Kernel Density Estimate\", \"type\": \"scatter\", \"x\": [-3.2412673400690726, -3.205619104738802, -3.169970869408532, -3.1343226340782615, -3.0986743987479914, -3.063026163417721, -3.027377928087451, -2.9917296927571804, -2.95608145742691, -2.92043322209664, -2.8847849867663693, -2.8491367514360992, -2.8134885161058287, -2.7778402807755587, -2.742192045445288, -2.7065438101150177, -2.6708955747847476, -2.635247339454477, -2.5995991041242066, -2.5639508687939365, -2.5283026334636665, -2.492654398133396, -2.4570061628031254, -2.4213579274728554, -2.385709692142585, -2.3500614568123144, -2.3144132214820443, -2.2787649861517743, -2.2431167508215037, -2.2074685154912332, -2.171820280160963, -2.1361720448306927, -2.100523809500422, -2.064875574170152, -2.029227338839882, -1.9935791035096115, -1.957930868179341, -1.9222826328490707, -1.8866343975188005, -1.8509861621885302, -1.81533792685826, -1.7796896915279896, -1.744041456197719, -1.7083932208674488, -1.6727449855371785, -1.6370967502069083, -1.601448514876638, -1.5658002795463677, -1.5301520442160972, -1.494503808885827, -1.4588555735555566, -1.4232073382252863, -1.387559102895016, -1.3519108675647458, -1.3162626322344755, -1.280614396904205, -1.2449661615739347, -1.2093179262436644, -1.173669690913394, -1.1380214555831238, -1.1023732202528533, -1.0667249849225833, -1.0310767495923128, -0.9954285142620427, -0.9597802789317722, -0.9241320436015017, -0.8884838082712316, -0.8528355729409611, -0.8171873376106911, -0.7815391022804206, -0.7458908669501505, -0.71024263161988, -0.6745943962896095, -0.6389461609593394, -0.6032979256290689, -0.5676496902987989, -0.5320014549685284, -0.49635321963825785, -0.4607049843079878, -0.4250567489777173, -0.3894085136474472, -0.3537602783171767, -0.31811204298690665, -0.28246380765663615, -0.24681557232636564, -0.21116733699609558, -0.17551910166582507, -0.139870866335555, -0.1042226310052845, -0.06857439567501444, -0.03292616034474394, 0.002722074985526568, 0.03837031031579663, 0.07401854564606714, 0.1096667809763372, 0.1453150163066077, 0.1809632516368782, 0.21661148696714827, 0.2522597222974188, 0.28790795762768884, 0.32355619295795934, 0.3592044282882294, 0.3948526636184999, 0.4305008989487704, 0.4661491342790405, 0.501797369609311, 0.537445604939581, 0.5730938402698516, 0.6087420756001216, 0.6443903109303921, 0.6800385462606626, 0.7156867815909327, 0.7513350169212032, 0.7869832522514737, 0.8226314875817438, 0.8582797229120138, 0.8939279582422848, 0.9295761935725548, 0.9652244289028249, 1.000872664233095, 1.036520899563366, 1.072169134893636, 1.107817370223906, 1.143465605554177, 1.179113840884447, 1.214762076214717, 1.2504103115449872, 1.2860585468752581, 1.3217067822055282, 1.3573550175357982, 1.3930032528660692, 1.4286514881963392, 1.4642997235266093, 1.4999479588568794, 1.5355961941871503, 1.5712444295174204, 1.6068926648476904, 1.6425409001779614, 1.6781891355082315, 1.7138373708385015, 1.7494856061687716, 1.7851338414990425, 1.8207820768293126, 1.8564303121595827, 1.8920785474898536, 1.9277267828201237, 1.9633750181503937, 1.9990232534806638, 2.0346714888109347, 2.070319724141205, 2.105967959471475, 2.141616194801746, 2.177264430132016, 2.212912665462286, 2.248560900792557, 2.284209136122827, 2.319857371453097, 2.355505606783367, 2.391153842113638, 2.426802077443908, 2.462450312774178, 2.498098548104449, 2.533746783434719, 2.569395018764989, 2.6050432540952593, 2.6406914894255302, 2.6763397247558003, 2.7119879600860703, 2.7476361954163413, 2.7832844307466114, 2.8189326660768814, 2.8545809014071515, 2.8902291367374224, 2.9258773720676925, 2.9615256073979626, 2.9971738427282335, 3.0328220780585036, 3.0684703133887736, 3.1041185487190437, 3.1397667840493146, 3.1754150193795847, 3.2110632547098548, 3.2467114900401257, 3.2823597253703958, 3.318007960700666, 3.353656196030936, 3.389304431361207, 3.424952666691477, 3.460600902021747, 3.496249137352018, 3.531897372682288, 3.567545608012558, 3.603193843342829, 3.638842078673099, 3.674490314003369, 3.710138549333639, 3.74578678466391, 3.78143501999418, 3.8170832553244503, 3.852731490654721], \"y\": [0.001465177340896476, 0.0015111825659408346, 0.0015523527997829646, 0.001590902974783333, 0.0016296196150826095, 0.001671784077589237, 0.001721085689262514, 0.0017815361418891658, 0.0018573958299513394, 0.001953120586324233, 0.002073333704927584, 0.0022228236643501947, 0.002406563168021489, 0.0026297406727155857, 0.0028977921713621005, 0.0032164192232311327, 0.00359157950190325, 0.004029438625958019, 0.004536276619684862, 0.005118348585049595, 0.005781706337479415, 0.006531994943827123, 0.007374244273871344, 0.008312679835366077, 0.009350578472602641, 0.010490192437555989, 0.011732759770271457, 0.01307861020661728, 0.01452736480329553, 0.016078215385946917, 0.01773025832600685, 0.019482847672184205, 0.021335926811256362, 0.023290296758847147, 0.025347783470049234, 0.027511276096115353, 0.029784622030789198, 0.03217238133228303, 0.03467946059854767, 0.03731066228063168, 0.0400701974713554, 0.042961216532170735, 0.0459854113430563, 0.04914273520786091, 0.05243127224365536, 0.055847269088839455, 0.05938532038513635, 0.06303867855820984, 0.06679964082174483, 0.07065995458603888, 0.07461117837396238, 0.07864493976205791, 0.08275304448578158, 0.08692741029453746, 0.09115982310843272, 0.09544153857726728, 0.09976277607945247, 0.10411217147920154, 0.1084762670674757, 0.11283912036272159, 0.11718210718702023, 0.12148397910040867, 0.12572121233422284, 0.12986865711688528, 0.13390046560430485, 0.1377912466300838, 0.14151736921139704, 0.1450583168297176, 0.14839798296177104, 0.15152579637085098, 0.15443757259838198, 0.15713600534700464, 0.1596307366313398, 0.16193797562556142, 0.16407967050010974, 0.1660822723800154, 0.16797516299898388, 0.16978884498444813, 0.1715530137212494, 0.17329464074207723, 0.17503619966581588, 0.17679415676379046, 0.17857783002776953, 0.18038869465775834, 0.1822201813197615, 0.18405797890303788, 0.18588081857632066, 0.18766168338645517, 0.18936935986004666, 0.19097022699387828, 0.19243016500178545, 0.19371646192796554, 0.19479960079500153, 0.1956548227772366, 0.19626338188503845, 0.19661343226421785, 0.19670051854072892, 0.1965276704859928, 0.1961051332945805, 0.19544979157774806, 0.19458436654180677, 0.19353647981990418, 0.19233768266332452, 0.1910225449924953, 0.18962788533963693, 0.18819220109938128, 0.18675533075522502, 0.1853583486286765, 0.18404366144218665, 0.18285524795520056, 0.18183896120583443, 0.18104279988779254, 0.18051705256102288, 0.18031422602779004, 0.18048868641365182, 0.18109596633868263, 0.18219172134157552, 0.18383035032294837, 0.18606332510613097, 0.18893730055525276, 0.19249209698521821, 0.19675865960539848, 0.20175710504618188, 0.2074949629270117, 0.21396571175295703, 0.22114769427290024, 0.22900347896816606, 0.23747971267305207, 0.24650748545702225, 0.2560032037623316, 0.2658699423846241, 0.2759992213830522, 0.28627313185121717, 0.2965667163663636, 0.3067504976795296, 0.3166930444997877, 0.32626346727889005, 0.3353337501148939, 0.3437808465559634, 0.3514884952522583, 0.3583487429713114, 0.3642631935154046, 0.3691440272947422, 0.3729148537929426, 0.37551146500437665, 0.37688255080945166, 0.37699041780731624, 0.37581172395127765, 0.3733382067255299, 0.36957734795154584, 0.3645528892954849, 0.35830509424511403, 0.3508906484096206, 0.3423821021335484, 0.33286678697404737, 0.3224451777039533, 0.3112287194827662, 0.29933718984356855, 0.28689571101563444, 0.27403156420845265, 0.26087097946756826, 0.24753608003342156, 0.23414214832826263, 0.22079535335554568, 0.20759103977720186, 0.19461263185712926, 0.18193115607987687, 0.16960533979525047, 0.1576822042730071, 0.1461980424944102, 0.1351796567970596, 0.12464572946004349, 0.1146082092798275, 0.10507361669844278, 0.09604419580883929, 0.0875188699183049, 0.07949398477521058, 0.07196384710999205, 0.06492108376554077, 0.058356857427934734, 0.05226097892412263, 0.04662195425279774, 0.04142699861508465, 0.03666204165150858, 0.03231173973653456, 0.028359504024612712, 0.024787547905344084, 0.021576954893214324, 0.018707767448304772, 0.01615909807166171, 0.013909265310022585, 0.01193595813416812, 0.01021643184522659, 0.008727736894018364, 0.007446978852563709, 0.006351603696435934, 0.005419698231362514, 0.0046302917112966266, 0.003963642165882774, 0.0034014901981484305]}, {\"line\": {\"color\": \"black\"}, \"mode\": \"lines\", \"type\": \"scatter\", \"x\": [0.78698325, 0.78698325], \"y\": [0.001465177340896476, 0.37699041780731624]}],                        {\"annotations\": [{\"align\": \"center\", \"arrowcolor\": \"#ff0000\", \"arrowhead\": 2, \"arrowsize\": 1, \"arrowwidth\": 2, \"bgcolor\": \"#ff0000\", \"bordercolor\": \"#c7c7c7\", \"borderpad\": 4, \"borderwidth\": 2, \"font\": {\"color\": \"#ffffff\"}, \"opacity\": 0.8, \"showarrow\": true, \"text\": \"$x_0 = -1.00\\\\text{; Gradient \\u2192; Local Optimum}$\", \"x\": -1, \"xref\": \"x\", \"y\": 0.12934271352553997, \"yref\": \"y\"}, {\"align\": \"center\", \"arrowcolor\": \"#ff0000\", \"arrowhead\": 2, \"arrowsize\": 1, \"arrowwidth\": 2, \"bgcolor\": \"#ff0000\", \"bordercolor\": \"#c7c7c7\", \"borderpad\": 4, \"borderwidth\": 2, \"font\": {\"color\": \"#ffffff\"}, \"opacity\": 0.8, \"showarrow\": true, \"text\": \"$x_0 = 0.40\\\\text{; Gradient \\u2190; Local Optimum}$\", \"x\": 0.4, \"xref\": \"x\", \"y\": 0.19215412708071558, \"yref\": \"y\"}, {\"align\": \"center\", \"arrowcolor\": \"#00FF00\", \"arrowhead\": 2, \"arrowsize\": 1, \"arrowwidth\": 2, \"bgcolor\": \"#00FF00\", \"bordercolor\": \"#c7c7c7\", \"borderpad\": 4, \"borderwidth\": 2, \"font\": {\"color\": \"#000000\"}, \"opacity\": 0.8, \"showarrow\": true, \"text\": \"$x_0 = 1.50\\\\text{; Gradient \\u2192; Global Optimum}$\", \"x\": 1.5, \"xref\": \"x\", \"y\": 0.2965816950747678, \"yref\": \"y\"}, {\"align\": \"center\", \"arrowcolor\": \"#00FF00\", \"arrowhead\": 2, \"arrowsize\": 1, \"arrowwidth\": 2, \"bgcolor\": \"#00FF00\", \"bordercolor\": \"#c7c7c7\", \"borderpad\": 4, \"borderwidth\": 2, \"font\": {\"color\": \"#000000\"}, \"opacity\": 0.8, \"showarrow\": true, \"text\": \"$x_0 = 3.00\\\\text{; Gradient ; Global Optimum}$\", \"x\": 3.0, \"xref\": \"x\", \"y\": 0.0868644633630691, \"yref\": \"y\"}, {\"align\": \"center\", \"arrowcolor\": \"#636363\", \"arrowhead\": 2, \"arrowsize\": 1, \"arrowwidth\": 2, \"bgcolor\": \"#6d72f1\", \"bordercolor\": \"#c7c7c7\", \"borderpad\": 4, \"borderwidth\": 2, \"font\": {\"color\": \"#ffffff\"}, \"opacity\": 0.8, \"showarrow\": true, \"text\": \"\\u2190 Fails; Succeeds \\u2192\", \"x\": 0.78698325, \"xref\": \"x\", \"y\": 0.18031422602926603, \"yref\": \"y\"}], \"template\": {\"data\": {\"bar\": [{\"error_x\": {\"color\": \"#2a3f5f\"}, \"error_y\": {\"color\": \"#2a3f5f\"}, \"marker\": {\"line\": {\"color\": \"#E5ECF6\", \"width\": 0.5}}, \"type\": \"bar\"}], \"barpolar\": [{\"marker\": {\"line\": {\"color\": \"#E5ECF6\", \"width\": 0.5}}, \"type\": \"barpolar\"}], \"carpet\": [{\"aaxis\": {\"endlinecolor\": \"#2a3f5f\", \"gridcolor\": \"white\", \"linecolor\": \"white\", \"minorgridcolor\": \"white\", \"startlinecolor\": \"#2a3f5f\"}, \"baxis\": {\"endlinecolor\": \"#2a3f5f\", \"gridcolor\": \"white\", \"linecolor\": \"white\", \"minorgridcolor\": \"white\", \"startlinecolor\": \"#2a3f5f\"}, \"type\": \"carpet\"}], \"choropleth\": [{\"colorbar\": {\"outlinewidth\": 0, \"ticks\": \"\"}, \"type\": \"choropleth\"}], \"contour\": [{\"colorbar\": {\"outlinewidth\": 0, \"ticks\": \"\"}, \"colorscale\": [[0.0, \"#0d0887\"], [0.1111111111111111, \"#46039f\"], [0.2222222222222222, \"#7201a8\"], [0.3333333333333333, \"#9c179e\"], [0.4444444444444444, \"#bd3786\"], [0.5555555555555556, \"#d8576b\"], [0.6666666666666666, \"#ed7953\"], [0.7777777777777778, \"#fb9f3a\"], [0.8888888888888888, \"#fdca26\"], [1.0, \"#f0f921\"]], \"type\": \"contour\"}], \"contourcarpet\": [{\"colorbar\": {\"outlinewidth\": 0, \"ticks\": \"\"}, \"type\": \"contourcarpet\"}], \"heatmap\": [{\"colorbar\": {\"outlinewidth\": 0, \"ticks\": \"\"}, \"colorscale\": [[0.0, \"#0d0887\"], [0.1111111111111111, \"#46039f\"], [0.2222222222222222, \"#7201a8\"], [0.3333333333333333, \"#9c179e\"], [0.4444444444444444, \"#bd3786\"], [0.5555555555555556, \"#d8576b\"], [0.6666666666666666, \"#ed7953\"], [0.7777777777777778, \"#fb9f3a\"], [0.8888888888888888, \"#fdca26\"], [1.0, \"#f0f921\"]], \"type\": \"heatmap\"}], \"heatmapgl\": [{\"colorbar\": {\"outlinewidth\": 0, \"ticks\": \"\"}, \"colorscale\": [[0.0, \"#0d0887\"], [0.1111111111111111, \"#46039f\"], [0.2222222222222222, \"#7201a8\"], [0.3333333333333333, \"#9c179e\"], [0.4444444444444444, \"#bd3786\"], [0.5555555555555556, \"#d8576b\"], [0.6666666666666666, \"#ed7953\"], [0.7777777777777778, \"#fb9f3a\"], [0.8888888888888888, \"#fdca26\"], [1.0, \"#f0f921\"]], \"type\": \"heatmapgl\"}], \"histogram\": [{\"marker\": {\"colorbar\": {\"outlinewidth\": 0, \"ticks\": \"\"}}, \"type\": \"histogram\"}], \"histogram2d\": [{\"colorbar\": {\"outlinewidth\": 0, \"ticks\": \"\"}, \"colorscale\": [[0.0, \"#0d0887\"], [0.1111111111111111, \"#46039f\"], [0.2222222222222222, \"#7201a8\"], [0.3333333333333333, \"#9c179e\"], [0.4444444444444444, \"#bd3786\"], [0.5555555555555556, \"#d8576b\"], [0.6666666666666666, \"#ed7953\"], [0.7777777777777778, \"#fb9f3a\"], [0.8888888888888888, \"#fdca26\"], [1.0, \"#f0f921\"]], \"type\": \"histogram2d\"}], \"histogram2dcontour\": [{\"colorbar\": {\"outlinewidth\": 0, \"ticks\": \"\"}, \"colorscale\": [[0.0, \"#0d0887\"], [0.1111111111111111, \"#46039f\"], [0.2222222222222222, \"#7201a8\"], [0.3333333333333333, \"#9c179e\"], [0.4444444444444444, \"#bd3786\"], [0.5555555555555556, \"#d8576b\"], [0.6666666666666666, \"#ed7953\"], [0.7777777777777778, \"#fb9f3a\"], [0.8888888888888888, \"#fdca26\"], [1.0, \"#f0f921\"]], \"type\": \"histogram2dcontour\"}], \"mesh3d\": [{\"colorbar\": {\"outlinewidth\": 0, \"ticks\": \"\"}, \"type\": \"mesh3d\"}], \"parcoords\": [{\"line\": {\"colorbar\": {\"outlinewidth\": 0, \"ticks\": \"\"}}, \"type\": \"parcoords\"}], \"pie\": [{\"automargin\": true, \"type\": \"pie\"}], \"scatter\": [{\"marker\": {\"colorbar\": {\"outlinewidth\": 0, \"ticks\": \"\"}}, \"type\": \"scatter\"}], \"scatter3d\": [{\"line\": {\"colorbar\": {\"outlinewidth\": 0, \"ticks\": \"\"}}, \"marker\": {\"colorbar\": {\"outlinewidth\": 0, \"ticks\": \"\"}}, \"type\": \"scatter3d\"}], \"scattercarpet\": [{\"marker\": {\"colorbar\": {\"outlinewidth\": 0, \"ticks\": \"\"}}, \"type\": \"scattercarpet\"}], \"scattergeo\": [{\"marker\": {\"colorbar\": {\"outlinewidth\": 0, \"ticks\": \"\"}}, \"type\": \"scattergeo\"}], \"scattergl\": [{\"marker\": {\"colorbar\": {\"outlinewidth\": 0, \"ticks\": \"\"}}, \"type\": \"scattergl\"}], \"scattermapbox\": [{\"marker\": {\"colorbar\": {\"outlinewidth\": 0, \"ticks\": \"\"}}, \"type\": \"scattermapbox\"}], \"scatterpolar\": [{\"marker\": {\"colorbar\": {\"outlinewidth\": 0, \"ticks\": \"\"}}, \"type\": \"scatterpolar\"}], \"scatterpolargl\": [{\"marker\": {\"colorbar\": {\"outlinewidth\": 0, \"ticks\": \"\"}}, \"type\": \"scatterpolargl\"}], \"scatterternary\": [{\"marker\": {\"colorbar\": {\"outlinewidth\": 0, \"ticks\": \"\"}}, \"type\": \"scatterternary\"}], \"surface\": [{\"colorbar\": {\"outlinewidth\": 0, \"ticks\": \"\"}, \"colorscale\": [[0.0, \"#0d0887\"], [0.1111111111111111, \"#46039f\"], [0.2222222222222222, \"#7201a8\"], [0.3333333333333333, \"#9c179e\"], [0.4444444444444444, \"#bd3786\"], [0.5555555555555556, \"#d8576b\"], [0.6666666666666666, \"#ed7953\"], [0.7777777777777778, \"#fb9f3a\"], [0.8888888888888888, \"#fdca26\"], [1.0, \"#f0f921\"]], \"type\": \"surface\"}], \"table\": [{\"cells\": {\"fill\": {\"color\": \"#EBF0F8\"}, \"line\": {\"color\": \"white\"}}, \"header\": {\"fill\": {\"color\": \"#C8D4E3\"}, \"line\": {\"color\": \"white\"}}, \"type\": \"table\"}]}, \"layout\": {\"annotationdefaults\": {\"arrowcolor\": \"#2a3f5f\", \"arrowhead\": 0, \"arrowwidth\": 1}, \"autotypenumbers\": \"strict\", \"coloraxis\": {\"colorbar\": {\"outlinewidth\": 0, \"ticks\": \"\"}}, \"colorscale\": {\"diverging\": [[0, \"#8e0152\"], [0.1, \"#c51b7d\"], [0.2, \"#de77ae\"], [0.3, \"#f1b6da\"], [0.4, \"#fde0ef\"], [0.5, \"#f7f7f7\"], [0.6, \"#e6f5d0\"], [0.7, \"#b8e186\"], [0.8, \"#7fbc41\"], [0.9, \"#4d9221\"], [1, \"#276419\"]], \"sequential\": [[0.0, \"#0d0887\"], [0.1111111111111111, \"#46039f\"], [0.2222222222222222, \"#7201a8\"], [0.3333333333333333, \"#9c179e\"], [0.4444444444444444, \"#bd3786\"], [0.5555555555555556, \"#d8576b\"], [0.6666666666666666, \"#ed7953\"], [0.7777777777777778, \"#fb9f3a\"], [0.8888888888888888, \"#fdca26\"], [1.0, \"#f0f921\"]], \"sequentialminus\": [[0.0, \"#0d0887\"], [0.1111111111111111, \"#46039f\"], [0.2222222222222222, \"#7201a8\"], [0.3333333333333333, \"#9c179e\"], [0.4444444444444444, \"#bd3786\"], [0.5555555555555556, \"#d8576b\"], [0.6666666666666666, \"#ed7953\"], [0.7777777777777778, \"#fb9f3a\"], [0.8888888888888888, \"#fdca26\"], [1.0, \"#f0f921\"]]}, \"colorway\": [\"#636efa\", \"#EF553B\", \"#00cc96\", \"#ab63fa\", \"#FFA15A\", \"#19d3f3\", \"#FF6692\", \"#B6E880\", \"#FF97FF\", \"#FECB52\"], \"font\": {\"color\": \"#2a3f5f\"}, \"geo\": {\"bgcolor\": \"white\", \"lakecolor\": \"white\", \"landcolor\": \"#E5ECF6\", \"showlakes\": true, \"showland\": true, \"subunitcolor\": \"white\"}, \"hoverlabel\": {\"align\": \"left\"}, \"hovermode\": \"closest\", \"mapbox\": {\"style\": \"light\"}, \"paper_bgcolor\": \"white\", \"plot_bgcolor\": \"#E5ECF6\", \"polar\": {\"angularaxis\": {\"gridcolor\": \"white\", \"linecolor\": \"white\", \"ticks\": \"\"}, \"bgcolor\": \"#E5ECF6\", \"radialaxis\": {\"gridcolor\": \"white\", \"linecolor\": \"white\", \"ticks\": \"\"}}, \"scene\": {\"xaxis\": {\"backgroundcolor\": \"#E5ECF6\", \"gridcolor\": \"white\", \"gridwidth\": 2, \"linecolor\": \"white\", \"showbackground\": true, \"ticks\": \"\", \"zerolinecolor\": \"white\"}, \"yaxis\": {\"backgroundcolor\": \"#E5ECF6\", \"gridcolor\": \"white\", \"gridwidth\": 2, \"linecolor\": \"white\", \"showbackground\": true, \"ticks\": \"\", \"zerolinecolor\": \"white\"}, \"zaxis\": {\"backgroundcolor\": \"#E5ECF6\", \"gridcolor\": \"white\", \"gridwidth\": 2, \"linecolor\": \"white\", \"showbackground\": true, \"ticks\": \"\", \"zerolinecolor\": \"white\"}}, \"shapedefaults\": {\"line\": {\"color\": \"#2a3f5f\"}}, \"ternary\": {\"aaxis\": {\"gridcolor\": \"white\", \"linecolor\": \"white\", \"ticks\": \"\"}, \"baxis\": {\"gridcolor\": \"white\", \"linecolor\": \"white\", \"ticks\": \"\"}, \"bgcolor\": \"#E5ECF6\", \"caxis\": {\"gridcolor\": \"white\", \"linecolor\": \"white\", \"ticks\": \"\"}}, \"title\": {\"x\": 0.05}, \"xaxis\": {\"automargin\": true, \"gridcolor\": \"white\", \"linecolor\": \"white\", \"ticks\": \"\", \"title\": {\"standoff\": 15}, \"zerolinecolor\": \"white\", \"zerolinewidth\": 2}, \"yaxis\": {\"automargin\": true, \"gridcolor\": \"white\", \"linecolor\": \"white\", \"ticks\": \"\", \"title\": {\"standoff\": 15}, \"zerolinecolor\": \"white\", \"zerolinewidth\": 2}}}, \"title\": {\"text\": \"Shortfall of Gradient Following\"}},                        {\"responsive\": true}                    ).then(function(){\n",
       "                            \n",
       "var gd = document.getElementById('a52dd113-0bd5-477d-a5b3-2b319c0db4d6');\n",
       "var x = new MutationObserver(function (mutations, observer) {{\n",
       "        var display = window.getComputedStyle(gd).display;\n",
       "        if (!display || display === 'none') {{\n",
       "            console.log([gd, 'removed!']);\n",
       "            Plotly.purge(gd);\n",
       "            observer.disconnect();\n",
       "        }}\n",
       "}});\n",
       "\n",
       "// Listen for the removal of the full notebook cells\n",
       "var notebookContainer = gd.closest('#notebook-container');\n",
       "if (notebookContainer) {{\n",
       "    x.observe(notebookContainer, {childList: true});\n",
       "}}\n",
       "\n",
       "// Listen for the clearing of the current output cell\n",
       "var outputEl = gd.closest('.output');\n",
       "if (outputEl) {{\n",
       "    x.observe(outputEl, {childList: true});\n",
       "}}\n",
       "\n",
       "                        })                };                });            </script>        </div>"
      ]
     },
     "metadata": {},
     "output_type": "display_data"
    }
   ],
   "source": [
    "# get the data\n",
    "np.random.seed(42)\n",
    "X1 = stt.norm(loc=0, scale=1).rvs(500)\n",
    "X2 = stt.norm(loc=2, scale=0.5).rvs(500)\n",
    "data = np.r_[X1, X2]\n",
    "\n",
    "# prep for kde\n",
    "mn, mx = min(data), max(data)\n",
    "x= np.linspace(mn, mx, 200)\n",
    "\n",
    "# kde\n",
    "kde = stt.gaussian_kde(data, bw_method=0.25)\n",
    "y = kde(x)\n",
    "\n",
    "# create the annotation\n",
    "x1 = -1\n",
    "y1 = kde(x1)[0]\n",
    "ann1 = dict(x=x1, y=y1, xref='x1', yref='y1', text='$x_0 = %0.2f\\\\text{; Gradient →; Local Optimum}$'%x1, showarrow=True,\n",
    "            bordercolor=\"#c7c7c7\", borderwidth=2, borderpad=4, bgcolor=\"#ff0000\", opacity=0.8,\n",
    "            font={'color':'#ffffff'}, align=\"center\", arrowhead=2, arrowsize=1, arrowwidth=2,\n",
    "            arrowcolor=\"#ff0000\")\n",
    "x2 = 0.40\n",
    "y2 = kde(x2)[0]\n",
    "ann2 = dict(x=x2, y=y2, xref='x1', yref='y1', text='$x_0 = %0.2f\\\\text{; Gradient ←; Local Optimum}$'%x2, showarrow=True,\n",
    "            bordercolor=\"#c7c7c7\", borderwidth=2, borderpad=4, bgcolor=\"#ff0000\", opacity=0.8,\n",
    "            font={'color':'#ffffff'}, align=\"center\", arrowhead=2, arrowsize=1, arrowwidth=2,\n",
    "            arrowcolor=\"#ff0000\")\n",
    "x3 = 1.5\n",
    "y3 = kde(x3)[0]\n",
    "ann3 = dict(x=x3, y=y3, xref='x1', yref='y1', text='$x_0 = %0.2f\\\\text{; Gradient →; Global Optimum}$'%x3, showarrow=True,\n",
    "            bordercolor=\"#c7c7c7\", borderwidth=2, borderpad=4, bgcolor=\"#00FF00\", opacity=0.8,\n",
    "            font={'color':'#000000'}, align=\"center\", arrowhead=2, arrowsize=1, arrowwidth=2,\n",
    "            arrowcolor=\"#00FF00\")\n",
    "x4 = 3.0\n",
    "y4 = kde(x4)[0]\n",
    "ann4 = dict(x=x4, y=y4, xref='x1', yref='y1', text='$x_0 = %0.2f\\\\text{; Gradient ; Global Optimum}$'%x4, showarrow=True,\n",
    "            bordercolor=\"#c7c7c7\", borderwidth=2, borderpad=4, bgcolor=\"#00FF00\", opacity=0.8,\n",
    "            font={'color':'#000000'}, align=\"center\", arrowhead=2, arrowsize=1, arrowwidth=2,\n",
    "            arrowcolor=\"#00FF00\")\n",
    "x5 = 0.78698325\n",
    "y5 = kde(x5)[0]\n",
    "ann5 = dict(x=x5, y=y5, xref='x1', yref='y1', text='← Fails; Succeeds →', showarrow=True,\n",
    "            bordercolor=\"#c7c7c7\", borderwidth=2, borderpad=4, bgcolor=\"#6d72f1\", opacity=0.8,\n",
    "            font={'color':'#ffffff'}, align=\"center\", arrowhead=2, arrowsize=1, arrowwidth=2,\n",
    "            arrowcolor=\"#636363\")\n",
    "\n",
    "# plot\n",
    "trcs = [go.Scatter(x=x, y=y, mode='lines', name='Kernel Density Estimate'),\n",
    "        go.Scatter(x=[x5, x5], y=[min(y), max(y)], mode='lines', line={'color':'black'})]\n",
    "fig = go.Figure(data=trcs, layout=go.Layout(title='Shortfall of Gradient Following'))\n",
    "anns = list(fig['layout']['annotations'])\n",
    "anns.extend([ann1, ann2, ann3, ann4, ann5])\n",
    "fig.update_layout( annotations=anns)\n",
    "#plyoff.plot(fig, include_mathjax='cdn')\n",
    "plyoff.iplot(fig)"
   ]
  },
  {
   "cell_type": "markdown",
   "id": "f3600b6c-f257-4268-8d85-0265dba18e9e",
   "metadata": {},
   "source": [
    "## Non-Gradent Following Optimization Algorithms\n",
    "\n",
    "There are several types of mathematical optimization algorithms which similarly operate on a sequence of individual solutions, but don't use derivatives. I am familiar with [Simulated Annealing](https://en.wikipedia.org/wiki/Simulated_annealing) and [Golden Section Search](https://en.wikipedia.org/wiki/Golden-section_search) opimization."
   ]
  },
  {
   "cell_type": "markdown",
   "id": "8bb67cf5-2e9b-4f91-aadb-4b63a7afd19e",
   "metadata": {},
   "source": [
    "## Evolutionary Algorithms\n",
    "The term [Evolutionary Algorithm (EA)](https://en.wikipedia.org/wiki/Evolutionary_algorithm) refers to a population-based metaheuristic optimization algorithm, and is a subset of evolutionary computation. Broadly, evolutionary algorithms are designed around concepts which come from biological evolution. There are several classes of evolutionary algorithms:\n",
    "\n",
    "- Differential Evolution\n",
    "- Evolutionary Programming\n",
    "- Evolutionary Strategy\n",
    "- Genetic Algorithm\n",
    "- Genetic Programming ([see here](https://github.com/ahowe42/baseball))\n",
    "- Learning Classifier System\n",
    "- Neuroevolution\n",
    "\n",
    "This set of lectures is focused on the Genetic Algorithm (GA), but could potentially be extended to include [Genetic Programming](https://en.wikipedia.org/wiki/Genetic_programming)."
   ]
  },
  {
   "cell_type": "markdown",
   "id": "04162e2f-4de0-46aa-89a7-38967b81f865",
   "metadata": {},
   "source": [
    "## Other Gradient Eschewing Algorithms\n",
    "In addition to EA's, there are several other types of metaheuristic optimization algorithms that are based on the idea of optimizing with a population of potential solutions. These include:\n",
    "\n",
    "- [Ant Colony Optimization - or Traveling Ant Colony Optimization (TACO)](https://en.wikipedia.org/wiki/Ant_colony_optimization_algorithms)\n",
    "- [Particle Swarm Optimization](https://en.wikipedia.org/wiki/Particle_swarm_optimization)\n",
    "- [Bees Algorithm](https://en.wikipedia.org/wiki/Bees_algorithm)\n",
    "- [Adaptive Dimensional Search](https://en.wikipedia.org/wiki/Adaptive_dimensional_search)\n",
    "- [Gaussian Adaptation](https://en.wikipedia.org/wiki/Gaussian_adaptation)\n",
    "- Harmony Search - special case of [Evolution Strategy](https://en.wikipedia.org/wiki/Evolution_strategy)\n",
    "\n",
    "I am only familiar with a few of these."
   ]
  },
  {
   "cell_type": "markdown",
   "id": "c6e0e191-3b93-4afd-88c4-bde661d6d9a9",
   "metadata": {},
   "source": [
    "## Genetic Algorithm\n",
    "The genetic algorithm (GA) is a stochastic population-based metaheuristic optimization algorithm, that borrows concepts from biological evolution. In the GA, a solution to an optimization problem is represented as a binary string of length `n`. In the GA parlance, this is metaphorically called an *individual*, or *chromosome*. Each solution is part of an ensemble of solutions which are considered together; this is called the *population*. The function to be optimized is called the *objective function*, or the *fitness function* - the latter is a metaphor to the biological concept of \"survival of the fittest\".\n",
    "\n",
    "Starting from an initial population of `P` individuals, the GA iterates over a few steps:\n",
    "\n",
    "1. score the fitness of each individuals in the population\n",
    "2. rank and select each individuals for mating\n",
    "3. mate pairs of individuals to create a new population\n",
    "4. apply any GA operators\n",
    "\n",
    "Each population of individuals is called a *generation*. There are several ways to rank and select individuals for mating. There are also several operators that can be used in the GA, mostly related to creating a new generation.\n",
    "\n",
    "The semantic meaning of the binary string as a solution to optimizing an objective function (an individual being the most fit in it's environment) depends on the context. For example, if the GA is being used to optimize a real-valued function, the string could be a digital representation of possible real values. The binary string could represent selection flags for a feature selection problem.\n",
    "\n",
    "In [this research article](https://www.researchgate.net/publication/301770005_Regularized_SVM_Classification_with_a_new_Complexity-Driven_Stochastic_Optimizer), I used the GA to simultaneously select a subset of features and one of 9 kernel functions. The same binary string had one portion interpreted as binary flags, and the other portion as digital representations of the numbers 1 to 9."
   ]
  },
  {
   "cell_type": "code",
   "execution_count": 3,
   "id": "49fde684-46b8-40e2-8261-8098c9d8c491",
   "metadata": {},
   "outputs": [],
   "source": [
    "# function to print individuals\n",
    "printIndiv = lambda x: ''.join(['%d'%i for i in x])"
   ]
  },
  {
   "cell_type": "code",
   "execution_count": 4,
   "id": "bbce1b15-776a-4fc6-a15e-cc1cd5d7b8c9",
   "metadata": {},
   "outputs": [
    {
     "name": "stdout",
     "output_type": "stream",
     "text": [
      "Sample population with 8 10-length individuals\n",
      "0: 1001010001 = 0.889\n",
      "1: 1000100000 = 0.683\n",
      "2: 0111101011 = 0.537\n",
      "3: 0110111110 = 0.448\n",
      "4: 0101111001 = 0.423\n",
      "5: 1111011110 = 0.259\n",
      "6: 1111111110 = 0.156\n",
      "7: 0001011111 = 0.127\n"
     ]
    }
   ],
   "source": [
    "''' generate a sample population with scores '''\n",
    "# generate the population and scores\n",
    "n = 10\n",
    "P = 8\n",
    "np.random.seed(1906)\n",
    "population = np.random.rand(P, n) > 0.5\n",
    "fitness = np.random.rand(P)\n",
    "\n",
    "# sort\n",
    "stdIndex = np.argsort(fitness)[::-1]\n",
    "population = population[stdIndex]\n",
    "fitness = fitness[stdIndex]\n",
    "\n",
    "# talk\n",
    "print('Sample population with %d %d-length individuals'%(P,n))\n",
    "for indx, (score, individual) in enumerate(zip(fitness, population)):\n",
    "    print('%d: %s = %0.3f'%(indx, printIndiv(individual), score))"
   ]
  },
  {
   "cell_type": "markdown",
   "id": "e60b1fa4-51b2-4a6b-a2c7-52853198aa4b",
   "metadata": {},
   "source": [
    "### Mating Ranking & Selection\n",
    "In the GA, mating is the process of combining two individuals to generate new individuals. I generally have two *parent* solutions mate to create a pair of *child* solutions. I do this is to keep a constant population size, but it's not required. For example, mating could choose to create, based on a randomized choice either:\n",
    "\n",
    "- a single offspring + new random individual\n",
    "- a pair of offspring\n",
    "\n",
    "The new random individual in the first option could be thought of as *adoption*.\n",
    "\n",
    "I have generally used two approaches to mating ranking & selection.\n",
    "\n",
    "#### Sorted\n",
    "In biology, it is generally the case that individuals that are similarly fit for their environment mate together. The metaphor generally holds for the GA, in that solutions with similar objective function scores are mated. This doesn't have to be the case. For example, we could mate pairs of solutions best-fitness to worst-fitness. This approach may help better explore the solution space, but I've never used it. \n",
    "\n",
    "This approach to mate ranking and selection is simple, and has the property that each individual mates exactly and only one time. For this, all individuals are sorted according to their fitness scores, then paired off in sequences, so there are $P/2$ mating pairs generated.\n",
    "\n",
    "#### Roulette\n",
    "In biology, it is generally the case that the most fit individuals mate the most, thus propagating their successful genes. This metaphor holds by design with the roulette method for generating mating pairs.\n",
    "\n",
    "The roulette method starts by sorting all individuals according to their fitness scores, then generating a biased roulette bar, in which the individual bins are of gradually decreasing size as computed here and visualized for $P=4$ below:\n",
    "\\begin{equation}\n",
    "b_i = \\frac{2i}{n\\left(n+1\\right)}, i=1,\\ldots,P\\text{.}\n",
    "\\end{equation}\n",
    "\n",
    "<center><img src='./roulette_selection.png' width='400' height='200'></center>\n",
    "\n",
    "When the cumulative sum of these bin widths is computed, we get upper bounds for the roulette bins, which completely partition the $[0, 1]$ interval. Each bin corresponds to an individual in the population; since the population was already sorted by fitness score, the wider bins correspond to the most fit individuals.\n",
    "\n",
    "Since we don't want the population to grow, we will generate $P/2$ mating pairs. To do so, $P$ random numbers are generated uniformly from $[0, 1]$ and placed in the appropriate bin. For each random variate in the $i^\\text{th}$ bin, the corresponding individual will be selected to mate. In this way, individuals with a better fitness score are overrepresented in the mating pool. The last step specific to this\n",
    "method is to randomly permute the ordering of the individuals in the mating pool.\n",
    "\n",
    "Note that this means that, while the most fit individuals will tend to mate the most frequently, they won't just mate with individuals with similar fitness scores."
   ]
  },
  {
   "cell_type": "code",
   "execution_count": 5,
   "id": "7f5ac71e-7341-463f-8b48-57a3d0124710",
   "metadata": {},
   "outputs": [
    {
     "name": "stdout",
     "output_type": "stream",
     "text": [
      "Mating pair 0: 1001010001 (0.889) <-> 1000100000 (0.683)\n",
      "Mating pair 1: 0111101011 (0.537) <-> 0110111110 (0.448)\n",
      "Mating pair 2: 0101111001 (0.423) <-> 1111011110 (0.259)\n",
      "Mating pair 3: 1111111110 (0.156) <-> 0001011111 (0.127)\n"
     ]
    }
   ],
   "source": [
    "''' pair individuals for mating - sorted method '''\n",
    "# skipping sorting, as the population is already sorted\n",
    "pairs = np.reshape(range(P), (P//2, 2))\n",
    "# talk\n",
    "for (indx, pair) in enumerate(pairs):\n",
    "    print('Mating pair %d: %s (%0.3f) <-> %s (%0.3f)'%(indx, printIndiv(population[pair[0]]), fitness[pair[0]],\n",
    "                                                       printIndiv(population[pair[1]]), fitness[pair[1]]))"
   ]
  },
  {
   "cell_type": "code",
   "execution_count": 6,
   "id": "ea26e359-8f05-4564-a0be-c386f0e996fa",
   "metadata": {},
   "outputs": [
    {
     "name": "stdout",
     "output_type": "stream",
     "text": [
      "Roulette bins: [('0.00', '0.22'), ('0.22', '0.42'), ('0.42', '0.58'), ('0.58', '0.72'), ('0.72', '0.83'), ('0.83', '0.92'), ('0.92', '0.97'), ('0.97', '1.00')]\n",
      "Mating pair 0: 0111101011 (0.537) <-> 0110111110 (0.448)\n",
      "Mating pair 1: 1001010001 (0.889) <-> 0111101011 (0.537)\n",
      "Mating pair 2: 1111011110 (0.259) <-> 1001010001 (0.889)\n",
      "Mating pair 3: 0110111110 (0.448) <-> 1001010001 (0.889)\n"
     ]
    }
   ],
   "source": [
    "''' pair individuals for mating - roulette method '''\n",
    "# generate the bounds and show the bins\n",
    "binUBounds = np.cumsum(2*np.linspace(P, 1, P)/(P*(P + 1.0)))\n",
    "bnds = [0] + binUBounds.tolist()\n",
    "print('Roulette bins: %r'%[('%0.2f'%f, '%0.2f'%t) for f, t in zip(bnds[:-1], bnds[1:])])\n",
    "\n",
    "# generate mating frequencies\n",
    "np.random.seed(2022)\n",
    "rands_in_bins = np.repeat(np.random.rand(P), P) >= np.tile(binUBounds, P)\n",
    "pairs = np.reshape(np.random.permutation(np.sum(np.reshape(rands_in_bins, [P]*2), axis=1)), (P//2, 2))\n",
    "\n",
    "# talk\n",
    "for (indx, pair) in enumerate(pairs):\n",
    "    print('Mating pair %d: %s (%0.3f) <-> %s (%0.3f)'%(indx, printIndiv(population[pair[0]]), fitness[pair[0]],\n",
    "                                                       printIndiv(population[pair[1]]), fitness[pair[1]]))"
   ]
  },
  {
   "cell_type": "markdown",
   "id": "16f7ecdb-5f18-4300-82c9-dc3459bf445b",
   "metadata": {},
   "source": [
    "### Crossover\n",
    "In biology, when a pair of individuals mate, their chromosomes are combined in a process called [chromosomal crossover](https://en.wikipedia.org/wiki/Chromosomal_crossover). An illustration from 1916 by researcher Thomus Hunt Morgan demonstrates the creation of recombinant genes through this process.\n",
    "\n",
    "<img src='https://upload.wikimedia.org/wikipedia/commons/0/0e/Morgan_crossover_1.jpg' height='500' width='500'>\n",
    "\n",
    "In the GA, after mating pairs are generated from a population, whether or not the crossover operation is employed is controlled by flipping a coin, biased according to the crossover probability $P_X$. If a random variate generated uniformly on the $[0, 1]$ interval is less than $P_X$, crossover is used. Otherwise, a mating pair produces a pair of offspring that are genetic replicants. Since crossover increases exploration of the objective function's solution space, I generally use a high probability - at least $P_X = 0.7$. I use three types of crossover.\n",
    "\n",
    "#### Single-Point\n",
    "In single-point crossover, a single crossover point (see what we did there?) is determined by generating a random value uniformly from the $[1, n]$ interval. The two individuals in a mating pair have their chromosomes traded at that point, as shown in the illustration above.\n",
    "\n",
    "#### Dual-Point\n",
    "Dual-point crossover works similarly, except two crossover points are generated randomly in the same was as single-point crossover. The chromosomes are partitioned and traded at these points. This is shown in the illustration below, also from Thomas Hung Morgan.\n",
    "\n",
    "<img src='https://upload.wikimedia.org/wikipedia/commons/4/45/Morgan_crossover_2.jpg' width='500' height='500'>\n",
    "\n",
    "#### Uniform\n",
    "Uniform crossover is the logical endpoint of the sequence of types of crossovers shown here. With uniform crossover, a random variate generated uniformly on the $[0, 1]$ interval is generated for each of the $P$ elements in the chromosomes being crossed over. For each element such that the random value is less than $P_X$, that element of the binary string is traded between the two individuals in the mating pair."
   ]
  },
  {
   "cell_type": "code",
   "execution_count": 14,
   "id": "bf92cfbf-b233-4879-90c7-3348068d5d7e",
   "metadata": {},
   "outputs": [
    {
     "name": "stdout",
     "output_type": "stream",
     "text": [
      "Mating pair 0 (xover=0): 0111101011 <-> 0110111110 --> 0111101011 & 0110111110\n",
      "Mating pair 1 (xover=7): 1001010001 <-> 0111101011 --> 1001010011 & 0111101001\n",
      "Mating pair 2 (xover=2): 1111011110 <-> 1001010001 --> 1101010001 & 1011011110\n",
      "Mating pair 3 (xover=0): 0110111110 <-> 1001010001 --> 0110111110 & 1001010001\n"
     ]
    }
   ],
   "source": [
    "''' single-point crossover '''\n",
    "# generate the crossover flags\n",
    "np.random.seed(42)\n",
    "probXover = 0.7\n",
    "xovers = np.random.rand(len(pairs)) < probXover\n",
    "\n",
    "# crossover\n",
    "for (indx, pair) in enumerate(pairs):\n",
    "    # get the individuals\n",
    "    p1 = population[pair[0]]\n",
    "    p2 = population[pair[1]]\n",
    "    if xovers[indx]:\n",
    "        # genetic replication\n",
    "        xoverpoint = 0\n",
    "        n1, n2 = p1, p2\n",
    "    else:\n",
    "        # crossover\n",
    "        xoverpoint = np.random.randint(1, n-1)\n",
    "        n1 = np.concatenate((p1[:xoverpoint], p2[xoverpoint:]))\n",
    "        n2 = np.concatenate((p2[:xoverpoint], p1[xoverpoint:]))\n",
    "    # talk\n",
    "    print('Mating pair %d (xover=%d): %s <-> %s --> %s & %s'%(indx, xoverpoint, printIndiv(p1), printIndiv(p2), printIndiv(n1), printIndiv(n2)))"
   ]
  },
  {
   "cell_type": "code",
   "execution_count": 13,
   "id": "43b1e334-4d57-4620-830f-1a87cc089ed4",
   "metadata": {},
   "outputs": [
    {
     "name": "stdout",
     "output_type": "stream",
     "text": [
      "Mating pair 0 (xover=[0, 0]): 0111101011 <-> 0110111110 --> 0111101011 & 0110111110\n",
      "Mating pair 1 (xover=[5, 8]): 1001010001 <-> 0111101011 --> 1001001001 & 0111110011\n",
      "Mating pair 2 (xover=[1, 7]): 1111011110 <-> 1001010001 --> 1001010110 & 1111011001\n",
      "Mating pair 3 (xover=[0, 0]): 0110111110 <-> 1001010001 --> 0110111110 & 1001010001\n"
     ]
    }
   ],
   "source": [
    "''' dual-point crossover '''\n",
    "# generate the crossover flags\n",
    "np.random.seed(42)\n",
    "probXover = 0.7\n",
    "xovers = np.random.rand(len(pairs)) < probXover\n",
    "\n",
    "# crossover\n",
    "for (indx, pair) in enumerate(pairs):\n",
    "    # get the individuals\n",
    "    p1 = population[pair[0]]\n",
    "    p2 = population[pair[1]]\n",
    "    if xovers[indx]:\n",
    "        # genetic replication\n",
    "        xoverpoints = [0,0]\n",
    "        n1, n2 = p1, p2\n",
    "    else:\n",
    "        # crossover\n",
    "        xoverpoints = np.sort(np.random.permutation(n-1)[:2]+1)\n",
    "        n1 = np.concatenate((p1[:xoverpoints[0]], p2[xoverpoints[0]:xoverpoints[1]], p1[xoverpoints[1]:]))\n",
    "        n2 = np.concatenate((p2[:xoverpoints[0]], p1[xoverpoints[0]:xoverpoints[1]], p2[xoverpoints[1]:]))\n",
    "    # talk\n",
    "    print('Mating pair %d (xover=[%d, %d]): %s <-> %s --> %s & %s'%(indx, xoverpoints[0], xoverpoints[1], printIndiv(p1), printIndiv(p2), printIndiv(n1), printIndiv(n2)))"
   ]
  },
  {
   "cell_type": "code",
   "execution_count": 19,
   "id": "fbb0cae2-a810-41ef-95cc-0a46c3ff78b9",
   "metadata": {
    "tags": []
   },
   "outputs": [
    {
     "name": "stdout",
     "output_type": "stream",
     "text": [
      "Mating pair 0 (xover=1101100101): 0111101011 <-> 0110111110 --> 0111111011 & 0110101110\n",
      "Mating pair 1 (xover=0011110010): 1001010001 <-> 0111101011 --> 0101011001 & 1011100011\n",
      "Mating pair 2 (xover=0011110010): 1111011110 <-> 1001010001 --> 1111011110 & 1001010001\n",
      "Mating pair 3 (xover=1011011011): 0110111110 <-> 1001010001 --> 0010011010 & 1101110101\n"
     ]
    }
   ],
   "source": [
    "''' uniform-point crossover '''\n",
    "# generate the crossover flags\n",
    "np.random.seed(1211)\n",
    "probXover = 0.7\n",
    "xovers = np.random.rand(len(pairs)) < probXover\n",
    "\n",
    "# crossover\n",
    "for (indx, pair) in enumerate(pairs):\n",
    "    # get the individuals\n",
    "    p1 = population[pair[0]]\n",
    "    p2 = population[pair[1]]\n",
    "    if xovers[indx]:\n",
    "        # genetic replication\n",
    "        xoverpoint = [0]*n\n",
    "        n1, n2 = p1, p2\n",
    "    else:\n",
    "        # crossover\n",
    "        xoverpoints = probXover > np.random.rand(n)\n",
    "        n1 = p1*xoverpoints + p2*~xoverpoints\n",
    "        n2 = p1*~xoverpoints + p2*xoverpoints\n",
    "    # talk\n",
    "    print('Mating pair %d (xover=%s): %s <-> %s --> %s & %s'%(indx, printIndiv(xoverpoints), printIndiv(p1), printIndiv(p2), printIndiv(n1), printIndiv(n2)))"
   ]
  },
  {
   "cell_type": "markdown",
   "id": "4c5f39fd-e4d7-4956-b2bc-2715d949aa72",
   "metadata": {},
   "source": [
    "### Mutation\n",
    "After mating pairs use crossover to generate a new population of individuals, the new individuals' chromosomes are mutated."
   ]
  },
  {
   "cell_type": "code",
   "execution_count": null,
   "id": "f32e5a3b-3f04-4478-b34d-c2cdd539828d",
   "metadata": {},
   "outputs": [],
   "source": []
  },
  {
   "cell_type": "markdown",
   "id": "0ae9a31f-f592-499b-9304-c4725c389242",
   "metadata": {},
   "source": [
    "### GA Engineering"
   ]
  },
  {
   "cell_type": "code",
   "execution_count": null,
   "id": "95c4b21a-b49f-4fa9-a2a3-e99b16d25933",
   "metadata": {},
   "outputs": [],
   "source": []
  },
  {
   "cell_type": "markdown",
   "id": "720fd6ef-18e9-43f8-a4e8-15dd874242f7",
   "metadata": {
    "tags": []
   },
   "source": [
    "### Elitism"
   ]
  },
  {
   "cell_type": "code",
   "execution_count": null,
   "id": "9ce80aa5-81e1-4925-92a9-c9f674442f8f",
   "metadata": {},
   "outputs": [],
   "source": []
  },
  {
   "cell_type": "code",
   "execution_count": null,
   "id": "67eb64e6-98b1-4d96-9c4b-dc72cb32b36d",
   "metadata": {},
   "outputs": [],
   "source": [
    "exploitation and exploration"
   ]
  }
 ],
 "metadata": {
  "kernelspec": {
   "display_name": "Python 3 (ipykernel)",
   "language": "python",
   "name": "python3"
  },
  "language_info": {
   "codemirror_mode": {
    "name": "ipython",
    "version": 3
   },
   "file_extension": ".py",
   "mimetype": "text/x-python",
   "name": "python",
   "nbconvert_exporter": "python",
   "pygments_lexer": "ipython3",
   "version": "3.8.5"
  }
 },
 "nbformat": 4,
 "nbformat_minor": 5
}
