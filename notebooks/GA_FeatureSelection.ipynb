{
 "cells": [
  {
   "cell_type": "code",
   "execution_count": 1,
   "id": "9d587596-5de2-4cd8-9e14-83a81f14890b",
   "metadata": {},
   "outputs": [],
   "source": [
    "import numpy as np\n",
    "import pandas as pd\n",
    "import datetime as dt\n",
    "import ipdb\n",
    "import time\n",
    "import sys\n",
    "\n",
    "import chart_studio.plotly as ply\n",
    "import chart_studio.tools as plytool\n",
    "import plotly.figure_factory as ff\n",
    "import plotly.graph_objs as go\n",
    "import plotly.offline as plyoff\n",
    "import plotly.subplots as plysub\n",
    "\n",
    "pd.set_option('display.max_columns', None)\n",
    "pd.set_option('display.max_rows', None)"
   ]
  },
  {
   "cell_type": "code",
   "execution_count": 9,
   "id": "e4ea3d7e-6280-43a9-8154-036c3fcee1e9",
   "metadata": {},
   "outputs": [],
   "source": [
    "# my imports\n",
    "sys.path.append('../src/')\n",
    "from GA.GA import *"
   ]
  },
  {
   "cell_type": "code",
   "execution_count": null,
   "id": "2b28d2ea-1ce8-42e2-bf2e-f34b88f2b568",
   "metadata": {},
   "outputs": [],
   "source": [
    "''' generate some data '''\n",
    "np.random.seed(42)\n",
    "p = 5\n",
    "n = 100\n",
    "\n",
    "# generate the features & build the dataframe\n",
    "X = np.random.normal(loc=10, scale=1, size=(n,p))\n",
    "feats = ['X%d'%i for i in range(p)]\n",
    "data = pd.DataFrame(data=X, columns=feats)\n",
    "\n",
    "# create the response\n",
    "data['response'] = data['X0']*5 + data['X1']*2 + np.random.normal(loc=0, scale=1, size=(n,1))\n",
    "\n",
    "# talk\n",
    "display(data.head())"
   ]
  }
 ],
 "metadata": {
  "kernelspec": {
   "display_name": "Python 3",
   "language": "python",
   "name": "python3"
  },
  "language_info": {
   "codemirror_mode": {
    "name": "ipython",
    "version": 3
   },
   "file_extension": ".py",
   "mimetype": "text/x-python",
   "name": "python",
   "nbconvert_exporter": "python",
   "pygments_lexer": "ipython3",
   "version": "3.8.8"
  }
 },
 "nbformat": 4,
 "nbformat_minor": 5
}
