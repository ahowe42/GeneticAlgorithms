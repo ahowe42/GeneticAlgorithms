{
 "cells": [
  {
   "cell_type": "code",
   "execution_count": null,
   "id": "9d587596-5de2-4cd8-9e14-83a81f14890b",
   "metadata": {},
   "outputs": [],
   "source": [
    "import numpy as np\n",
    "import pandas as pd\n",
    "import datetime as dt\n",
    "import ipdb\n",
    "import time\n",
    "import sys\n",
    "\n",
    "import chart_studio.plotly as ply\n",
    "import chart_studio.tools as plytool\n",
    "import plotly.figure_factory as ff\n",
    "import plotly.graph_objs as go\n",
    "import plotly.offline as plyoff\n",
    "import plotly.subplots as plysub\n",
    "\n",
    "pd.set_option('display.max_columns', None)\n",
    "pd.set_option('display.max_rows', None)"
   ]
  },
  {
   "cell_type": "code",
   "execution_count": null,
   "id": "e4ea3d7e-6280-43a9-8154-036c3fcee1e9",
   "metadata": {},
   "outputs": [],
   "source": [
    "# my imports\n",
    "sys.path.append('../src/')\n",
    "from GA.GA import *\n",
    "from GA.Objective import *\n",
    "from Utils.Utils import *"
   ]
  },
  {
   "cell_type": "code",
   "execution_count": null,
   "id": "2b28d2ea-1ce8-42e2-bf2e-f34b88f2b568",
   "metadata": {},
   "outputs": [],
   "source": [
    "''' generate some data '''\n",
    "np.random.seed(42)\n",
    "p = 20\n",
    "n = 100\n",
    "\n",
    "# generate the features & target\n",
    "X = np.random.rand(n, p)\n",
    "y = X[:, 0]*5 + X[:, 1]*5 + np.random.normal(loc=0, scale=1, size=n)\n",
    "simName = '5X0+5X1'\n",
    "simSubs = np.zeros(shape=(p,1), dtype=int)\n",
    "simSubs[:2, :] = 1\n",
    "\n",
    "# create the dataframe\n",
    "feats = ['X%d'%i for i in range(p)]\n",
    "data = pd.DataFrame(data=y, columns=['target'])\n",
    "data[feats] = X\n",
    "\n",
    "# talk\n",
    "display(data.head())"
   ]
  },
  {
   "cell_type": "code",
   "execution_count": null,
   "id": "2534ddba-726c-43f1-9398-87e4544ba8a8",
   "metadata": {},
   "outputs": [],
   "source": [
    "# review the features correlations\n",
    "figCorr = correlationsPlot(data[feats].corr(), plotTitl='Feature Correlations Plot',\n",
    "                           trcLims=(0.0, 0.75, 0.9, 0.95, 1.0), tweaks=(20, None, None, 1.05))\n",
    "plyoff.plot(figCorr, auto_open=True, include_mathjax='cdn')"
   ]
  },
  {
   "cell_type": "code",
   "execution_count": null,
   "id": "031a6699-56fe-4431-93d8-ddf708fdcb70",
   "metadata": {},
   "outputs": [],
   "source": [
    "''' prepare GA input parameters '''\n",
    "# GA parameters\n",
    "parmsGA = {'initPerc':0.5, 'forceVars':None, 'showTopSubs':10, 'populSize':50, 'numGens':100,\n",
    "           'noChangeTerm':180, 'convgCrit':0.00001, 'elitism':True, 'mateType':1, 'probXover':0.8,\n",
    "           'probMutate':0.3, 'probEngineer':0.2, 'optimGoal':-1, 'plotFlag':True, 'printFreq':10,\n",
    "           'xoverType':1}\n",
    "# data parameters\n",
    "parmsData = {'data':data, 'name':simName}\n",
    "# objective parameters\n",
    "parmsObj = {'function':'RegressionMetric',\n",
    "            'arguments':{'data':None, 'subset':None, 'metric':'RMSE', 'optimGoal':parmsGA['optimGoal']}}"
   ]
  },
  {
   "cell_type": "code",
   "execution_count": null,
   "id": "13d44a7c-1bf6-46ee-bd5e-acf24e9a2b2f",
   "metadata": {
    "tags": []
   },
   "outputs": [],
   "source": [
    "''' run the GA - hold on to your butts '''\n",
    "# parameters\n",
    "randSeed = 42\n",
    "verb = False\n",
    "MSims = 1\n",
    "\n",
    "# init\n",
    "bestSubss = [None]*MSims\n",
    "bestScores = [None]*MSims\n",
    "genBestss = [None]*MSims\n",
    "genScoress = [None]*MSims\n",
    "randSeeds = [None]*MSims\n",
    "timeStamps = [None]*MSims\n",
    "figGPProgresss = [None]*MSims\n",
    "seedSubs = []\n",
    "\n",
    "for sim in range(MSims):\n",
    "    print('Executing GA %d of %d'%(sim+1, MSims))\n",
    "    bestSubss[sim], bestScores[sim], genBestss[sim], genScoress[sim],\\\n",
    "    randSeeds[sim], timeStamps[sim], figGPProgresss[sim] = RunGASubset(parmsGA, parmsData, parmsObj, seedSubs, verb, randSeed)\n",
    "    # add the best subset to seed the next GP run, if new\n",
    "    try:\n",
    "        seedSubs.index(bestSubss[sim])\n",
    "    except ValueError:\n",
    "        # this best is new, so add\n",
    "        seedSubs.append(bestSubss[sim])\n",
    "\n",
    "# get the overall best\n",
    "bestIndx = np.argmax(parmsGA['optimGoal']*np.array(bestScores))\n",
    "bestScore = bestScores[bestIndx]\n",
    "bestSubs = bestSubss[bestIndx]\n",
    "timeStamp = timeStamps[bestIndx]"
   ]
  },
  {
   "cell_type": "code",
   "execution_count": null,
   "id": "cadc2a42-eac9-4ab6-ac29-207e03381239",
   "metadata": {},
   "outputs": [],
   "source": [
    "# set some objective stuff for the plots\n",
    "parmsObj['arguments']['data'] = data\n",
    "objStr = '%s(%s)'%(parmsObj['function'], ', '.join(['%s=%r'%(key, val) for (key, val) in parmsObj['arguments'].items()\\\n",
    "        if key not in ['data', 'subset']]))\n",
    "objStr = re.sub('[^0-9A-Za-z_]', '_', objStr)"
   ]
  },
  {
   "cell_type": "code",
   "execution_count": null,
   "id": "38181d91-c6ff-4ea6-be5d-abc5453c8d18",
   "metadata": {},
   "outputs": [],
   "source": [
    "''' evaluate the best subset '''\n",
    "# subset name\n",
    "name = BinaryStr(bestSubs)\n",
    "\n",
    "# show the selected columns\n",
    "keep = [f for b, f in zip(bestSubs, feats) if b]\n",
    "print('Best Subset Columns: %r'%keep)\n",
    "\n",
    "# get the predictions & model\n",
    "parmsObj['arguments']['subset'] = bestSubs\n",
    "_, preds, estim = globals()[parmsObj['function']](**parmsObj['arguments'])\n",
    "\n",
    "# add the subset results & compute error\n",
    "data[name] = preds\n",
    "data['G_error'] = data['target'] - data[name]\n",
    "\n",
    "# talk\n",
    "display(data.head())\n",
    "\n",
    "# plot\n",
    "figGAPerformance = ResultsPlots(data, sequenceCol=None, responseCol='target',\n",
    "                                predCol=name, resdCol='G_error', colorCol=None,\n",
    "                                overall_title='GA Performance: %s = %0.4f'%(name, bestScore), plot_colors=('blue',)*4)\n",
    "plyoff.plot(figGAPerformance, filename='../output/GAPerformance_%s_%s_%s.html'\\\n",
    "            %(timeStamp, re.sub('[^0-9A-Za-z_]', '_', simName), objStr), auto_open=True, include_mathjax='cdn')"
   ]
  },
  {
   "cell_type": "code",
   "execution_count": null,
   "id": "12ea52ed-310f-4ac7-8900-c4f85fe8d090",
   "metadata": {},
   "outputs": [],
   "source": [
    "''' evaluate the full subset '''\n",
    "# subset\n",
    "fullSubs = np.ones(shape=(p,1))\n",
    "name = BinaryStr(fullSubs)\n",
    "\n",
    "# get the predictions & model\n",
    "parmsObj['arguments']['subset'] = fullSubs\n",
    "fullScore, preds, estim = globals()[parmsObj['function']](**parmsObj['arguments'])\n",
    "\n",
    "# add the subset results & compute error\n",
    "data['full'] = preds\n",
    "data['F_error'] = data['target'] - data['full']\n",
    "\n",
    "# talk\n",
    "display(data.head())\n",
    "\n",
    "# plot\n",
    "figFull = ResultsPlots(data, sequenceCol=None, responseCol='target', predCol='full',\n",
    "                       resdCol='F_error', colorCol=None, overall_title='Full Model = %0.4f'%fullScore,\n",
    "                       plot_colors=('red',)*4)\n",
    "plyoff.plot(figFull, filename='../output/FullModel_%s_%s.html'\\\n",
    "            %(re.sub('[^0-9A-Za-z_]', '_', simName), objStr), auto_open=True, include_mathjax='cdn')"
   ]
  },
  {
   "cell_type": "code",
   "execution_count": null,
   "id": "410c7d9a-56d4-45e6-9774-aaa33e8c8127",
   "metadata": {},
   "outputs": [],
   "source": [
    "''' evaluate the true subset '''\n",
    "# subset\n",
    "name = BinaryStr(simSubs)\n",
    "\n",
    "# get the predictions & model\n",
    "parmsObj['subset'] = simSubs\n",
    "simScore, preds, estim = globals()[parmsObj['function']](**parmsObj['arguments'])\n",
    "\n",
    "# add the subset results & compute error\n",
    "data['True'] = preds\n",
    "data['T_error'] = data['target'] - data['full']\n",
    "\n",
    "# talk\n",
    "display(data.head())\n",
    "\n",
    "# plot\n",
    "figTrue = ResultsPlots(data, sequenceCol=None, responseCol='target', predCol='True',\n",
    "                       resdCol='T_error', colorCol=None, overall_title='True Model = %0.4f'%fullScore,\n",
    "                       plot_colors=('green',)*4)\n",
    "plyoff.plot(figTrue, filename='../output/TrueModel_%s_%s.html'\\\n",
    "            %(re.sub('[^0-9A-Za-z_]', '_', simName), objStr), auto_open=True, include_mathjax='cdn')"
   ]
  },
  {
   "cell_type": "code",
   "execution_count": null,
   "id": "048afde2-d1b4-4bb0-b079-3035810cbd73",
   "metadata": {},
   "outputs": [],
   "source": []
  }
 ],
 "metadata": {
  "kernelspec": {
   "display_name": "Python 3",
   "language": "python",
   "name": "python3"
  },
  "language_info": {
   "codemirror_mode": {
    "name": "ipython",
    "version": 3
   },
   "file_extension": ".py",
   "mimetype": "text/x-python",
   "name": "python",
   "nbconvert_exporter": "python",
   "pygments_lexer": "ipython3",
   "version": "3.8.8"
  }
 },
 "nbformat": 4,
 "nbformat_minor": 5
}
