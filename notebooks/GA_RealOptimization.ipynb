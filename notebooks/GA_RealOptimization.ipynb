{
 "cells": [
  {
   "cell_type": "code",
   "execution_count": null,
   "id": "96ef3fab-7c6b-4853-9d80-a72f64540071",
   "metadata": {},
   "outputs": [],
   "source": [
    "import numpy as np\n",
    "import pandas as pd\n",
    "import datetime as dt\n",
    "import ipdb\n",
    "import time\n",
    "import sys\n",
    "import scipy.stats as stt\n",
    "\n",
    "import chart_studio.plotly as ply\n",
    "import chart_studio.tools as plytool\n",
    "import plotly.figure_factory as ff\n",
    "import plotly.graph_objs as go\n",
    "import plotly.offline as plyoff\n",
    "import plotly.subplots as plysub\n",
    "\n",
    "pd.set_option('display.max_columns', None)\n",
    "pd.set_option('display.max_rows', None)"
   ]
  },
  {
   "cell_type": "code",
   "execution_count": null,
   "id": "20f0fb82-3fef-4bae-9851-3c52418ece34",
   "metadata": {},
   "outputs": [],
   "source": [
    "# my imports\n",
    "sys.path.append('../src/')\n",
    "from GA.GA import *\n",
    "from GA.Objective import *\n",
    "from Utils.Utils import *"
   ]
  },
  {
   "cell_type": "code",
   "execution_count": null,
   "id": "88ee20ea-18c1-4f48-bada-f6a2cf1bb295",
   "metadata": {},
   "outputs": [],
   "source": [
    "# make some data\n",
    "np.random.seed(42)\n",
    "n = 100\n",
    "params = [5, 1]\n",
    "\n",
    "data = stt.norm.rvs(loc=params[0], scale=params[1], size=n)\n",
    "simName = 'Gauss(%d, %d)'%(params[0], params[1])"
   ]
  },
  {
   "cell_type": "code",
   "execution_count": null,
   "id": "f7dd73a8-4419-423f-aa9f-fcc354f40af7",
   "metadata": {},
   "outputs": [],
   "source": [
    "# define distributions of interest\n",
    "dists = ['NRM', 'GAM', 'LOG', 'EXP', 'CHI', 'STU', 'CAU', 'LPL', 'PAR']\n",
    "results = dict.fromkeys(dists, None)\n",
    "\n",
    "# get bounds\n",
    "for dist in dists:\n",
    "    # compute\n",
    "    rng = PDFParamRanges(data, dist, scale=3)\n",
    "    l = ComputeLikelihood(data, rng[0], dist)\n",
    "    u = ComputeLikelihood(data, rng[1], dist)\n",
    "    # store\n",
    "    results[dist] = [rng, l, u]\n",
    "    # talk\n",
    "    print('%s = (%0.3f, %0.3f)'%(dist, l[0], u[0]))"
   ]
  },
  {
   "cell_type": "code",
   "execution_count": null,
   "id": "08676c89-0d77-4be8-b4b7-9ec8251d56f1",
   "metadata": {},
   "outputs": [],
   "source": [
    "''' prepare GA input parameters '''\n",
    "# distribution parameters\n",
    "bitCnt = 16\n",
    "dist = 'NRM'\n",
    "lowerB = results[dist][0][0]\n",
    "upperB = results[dist][0][1]\n",
    "bits = [bitCnt]*len(lowerB)\n",
    "\n",
    "# GA parameters\n",
    "parmsGA = {'initPerc':0.5, 'showTopRes':10, 'populSize':100, 'numGens':100,\n",
    "           'noChangeTerm':180, 'convgCrit':0.00001, 'elitism':True, 'mateType':1, 'probXover':0.8,\n",
    "           'probMutate':0.3, 'probEngineer':0.2, 'optimGoal':1, 'plotFlag':True, 'printFreq':10,\n",
    "           'xoverType':1, 'bits':bits, 'lowerB':lowerB, 'upperB':upperB}\n",
    "\n",
    "# data parameters\n",
    "parmsData = {'data':data, 'name':simName}\n",
    "\n",
    "# objective parameters\n",
    "parmsObj = {'function':'ComputeLikelihood',\n",
    "            'arguments':{'data':None, 'params':None, 'dist':dist}}"
   ]
  },
  {
   "cell_type": "code",
   "execution_count": null,
   "id": "2796551d-fa59-469f-bd0c-ca989304ef93",
   "metadata": {},
   "outputs": [],
   "source": [
    "''' run the GA - hold on to your butts '''\n",
    "# parameters\n",
    "randSeed = None#42\n",
    "verb = False\n",
    "MSims = 5\n",
    "\n",
    "# init\n",
    "bestRess = [None]*MSims\n",
    "bestParams = [None]*MSims\n",
    "bestScores = [None]*MSims\n",
    "genBests = [None]*MSims\n",
    "genBestParams = [None]*MSims\n",
    "genScores = [None]*MSims\n",
    "randSeeds = [None]*MSims\n",
    "timeStamps = [None]*MSims\n",
    "figGAProgresss = [None]*MSims\n",
    "\n",
    "for sim in range(MSims):\n",
    "    print('Executing GA %d of %d'%(sim+1, MSims))\n",
    "    bestRess[sim], bestParams[sim], bestScores[sim], genBests[sim],\\\n",
    "        genBestParams[sim], genScores[sim], randSeeds[sim], timeStamps[sim],\\\n",
    "        figGAProgresss[sim] = RunGARealOptim(parmsGA, parmsData, parmsObj, verb, randSeed)\n",
    "\n",
    "# get the overall best\n",
    "bestIndx = np.argmax(parmsGA['optimGoal']*np.array(bestScores))\n",
    "bestScore = bestScores[bestIndx]\n",
    "bestParam = bestParams[bestIndx]\n",
    "timeStamp = timeStamps[bestIndx]"
   ]
  },
  {
   "cell_type": "code",
   "execution_count": null,
   "id": "eff6f0ec-f9ac-4a53-a12b-4f284e548157",
   "metadata": {},
   "outputs": [],
   "source": []
  }
 ],
 "metadata": {
  "kernelspec": {
   "display_name": "Python 3",
   "language": "python",
   "name": "python3"
  },
  "language_info": {
   "codemirror_mode": {
    "name": "ipython",
    "version": 3
   },
   "file_extension": ".py",
   "mimetype": "text/x-python",
   "name": "python",
   "nbconvert_exporter": "python",
   "pygments_lexer": "ipython3",
   "version": "3.8.8"
  }
 },
 "nbformat": 4,
 "nbformat_minor": 5
}
