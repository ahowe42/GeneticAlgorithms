{
 "cells": [
  {
   "cell_type": "code",
   "execution_count": null,
   "id": "96ef3fab-7c6b-4853-9d80-a72f64540071",
   "metadata": {},
   "outputs": [],
   "source": [
    "import numpy as np\n",
    "import pandas as pd\n",
    "import datetime as dt\n",
    "import ipdb\n",
    "import time\n",
    "import sys\n",
    "import scipy.stats as stt\n",
    "\n",
    "import chart_studio.plotly as ply\n",
    "import chart_studio.tools as plytool\n",
    "import plotly.figure_factory as ff\n",
    "import plotly.graph_objs as go\n",
    "import plotly.offline as plyoff\n",
    "import plotly.subplots as plysub\n",
    "\n",
    "pd.set_option('display.max_columns', None)\n",
    "pd.set_option('display.max_rows', None)"
   ]
  },
  {
   "cell_type": "code",
   "execution_count": null,
   "id": "20f0fb82-3fef-4bae-9851-3c52418ece34",
   "metadata": {},
   "outputs": [],
   "source": [
    "# my imports\n",
    "sys.path.append('../src/')\n",
    "from GA.GA import *\n",
    "from GA.Objective import *\n",
    "from Utils.Utils import *"
   ]
  },
  {
   "cell_type": "code",
   "execution_count": null,
   "id": "88ee20ea-18c1-4f48-bada-f6a2cf1bb295",
   "metadata": {},
   "outputs": [],
   "source": [
    "# make some data\n",
    "data = stt.norm.rvs(loc=5, scale=1, size=100)"
   ]
  },
  {
   "cell_type": "code",
   "execution_count": null,
   "id": "f7dd73a8-4419-423f-aa9f-fcc354f40af7",
   "metadata": {},
   "outputs": [],
   "source": [
    "# define distributions of interest\n",
    "dists = ['NRM', 'GAM', 'LOG', 'EXP', 'CHI', 'STU', 'CAU', 'LPL', 'PAR']\n",
    "results = dict.fromkeys(dists, None)\n",
    "\n",
    "# get bounds\n",
    "for dist in dists:\n",
    "    results[dist] = [PDFParamRanges(data, dist), None, None]\n",
    "    \n",
    "# compute probs & loglikes\n",
    "for dist in dists:\n",
    "    l = ComputeLikelihood(data, results[dist][0][0], dist)\n",
    "    u = ComputeLikelihood(data, results[dist][0][1], dist)\n",
    "    results[dist][1] = l\n",
    "    results[dist][2] = u"
   ]
  },
  {
   "cell_type": "code",
   "execution_count": null,
   "id": "5e8c6245-c0ef-4e28-930c-1d5bc54aee99",
   "metadata": {},
   "outputs": [],
   "source": [
    "# view results\n",
    "for dist in dists:\n",
    "    l = results[dist][1][0]\n",
    "    u = results[dist][2][0]\n",
    "    print('%s = (%0.3f, %0.3f)'%(dist, l, u))"
   ]
  },
  {
   "cell_type": "code",
   "execution_count": null,
   "id": "08676c89-0d77-4be8-b4b7-9ec8251d56f1",
   "metadata": {},
   "outputs": [],
   "source": []
  }
 ],
 "metadata": {
  "kernelspec": {
   "display_name": "Python 3",
   "language": "python",
   "name": "python3"
  },
  "language_info": {
   "codemirror_mode": {
    "name": "ipython",
    "version": 3
   },
   "file_extension": ".py",
   "mimetype": "text/x-python",
   "name": "python",
   "nbconvert_exporter": "python",
   "pygments_lexer": "ipython3",
   "version": "3.8.8"
  }
 },
 "nbformat": 4,
 "nbformat_minor": 5
}
